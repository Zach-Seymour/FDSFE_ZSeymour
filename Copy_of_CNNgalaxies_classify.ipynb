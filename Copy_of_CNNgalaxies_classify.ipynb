{
  "nbformat": 4,
  "nbformat_minor": 0,
  "metadata": {
    "colab": {
      "provenance": [],
      "gpuType": "T4",
      "include_colab_link": true
    },
    "kernelspec": {
      "name": "python3",
      "display_name": "Python 3"
    },
    "accelerator": "GPU"
  },
  "cells": [
    {
      "cell_type": "markdown",
      "metadata": {
        "id": "view-in-github",
        "colab_type": "text"
      },
      "source": [
        "<a href=\"https://colab.research.google.com/github/Zach-Seymour/FDSFE_ZSeymour/blob/main/Copy_of_CNNgalaxies_classify.ipynb\" target=\"_parent\"><img src=\"https://colab.research.google.com/assets/colab-badge.svg\" alt=\"Open In Colab\"/></a>"
      ]
    },
    {
      "cell_type": "code",
      "metadata": {
        "id": "wIhsN_yinZdv"
      },
      "source": [
        "import pylab as pl\n",
        "from sklearn.model_selection import train_test_split\n",
        "import pandas as pd\n",
        "import numpy as np"
      ],
      "execution_count": null,
      "outputs": []
    },
    {
      "cell_type": "code",
      "metadata": {
        "id": "3WuHvJRN1Uxt"
      },
      "source": [
        "import tensorflow as tf\n",
        "from tensorflow import keras\n",
        "from tensorflow.keras.callbacks import Callback\n"
      ],
      "execution_count": null,
      "outputs": []
    },
    {
      "cell_type": "code",
      "metadata": {
        "id": "mX1kOtJQ1Uxt"
      },
      "source": [
        "from keras.models import Sequential\n",
        "from keras.layers import Dense, Dropout, Flatten\n",
        "from keras.layers import Conv2D, MaxPooling2D"
      ],
      "execution_count": null,
      "outputs": []
    },
    {
      "cell_type": "code",
      "metadata": {
        "id": "527H05-_1Uxt"
      },
      "source": [
        "from keras.optimizers import Adam\n",
        "from keras.callbacks import ModelCheckpoint\n",
        "from keras.callbacks import LambdaCallback, EarlyStopping\n"
      ],
      "execution_count": null,
      "outputs": []
    },
    {
      "cell_type": "code",
      "metadata": {
        "id": "1-nKGCF65p94",
        "colab": {
          "base_uri": "https://localhost:8080/"
        },
        "outputId": "99cf9cfc-6d7d-41af-9024-67d318f0b30e"
      },
      "source": [
        "from google.colab import drive\n",
        "drive.mount('/content/drive')"
      ],
      "execution_count": null,
      "outputs": [
        {
          "output_type": "stream",
          "name": "stdout",
          "text": [
            "Drive already mounted at /content/drive; to attempt to forcibly remount, call drive.mount(\"/content/drive\", force_remount=True).\n"
          ]
        }
      ]
    },
    {
      "cell_type": "code",
      "source": [
        "cd /content/drive/MyDrive/\n"
      ],
      "metadata": {
        "id": "vaQYbkeQscWm",
        "colab": {
          "base_uri": "https://localhost:8080/"
        },
        "outputId": "f3d1fb78-6fb4-481e-89ad-5922d36bbede"
      },
      "execution_count": null,
      "outputs": [
        {
          "output_type": "stream",
          "name": "stdout",
          "text": [
            "/content/drive/MyDrive\n"
          ]
        }
      ]
    },
    {
      "cell_type": "code",
      "source": [
        "cd FDSFE"
      ],
      "metadata": {
        "id": "qStGhRKls49t",
        "colab": {
          "base_uri": "https://localhost:8080/"
        },
        "outputId": "5a0da110-8cd6-4377-a888-dab223064112"
      },
      "execution_count": null,
      "outputs": [
        {
          "output_type": "stream",
          "name": "stdout",
          "text": [
            "/content/drive/MyDrive/FDSFE\n"
          ]
        }
      ]
    },
    {
      "cell_type": "code",
      "source": [
        "\n"
      ],
      "metadata": {
        "id": "MbiHOdBws3Ps",
        "colab": {
          "base_uri": "https://localhost:8080/"
        },
        "outputId": "b38aa643-1604-4645-a658-76ff038f7582"
      },
      "execution_count": null,
      "outputs": [
        {
          "output_type": "stream",
          "name": "stdout",
          "text": [
            "/content/drive/Shareddrives/DSPS2021\n"
          ]
        }
      ]
    },
    {
      "cell_type": "code",
      "metadata": {
        "id": "e9lrcQJ5BkaG"
      },
      "source": [
        "ims = np.load(\"galaxies.npy\")"
      ],
      "execution_count": null,
      "outputs": []
    },
    {
      "cell_type": "code",
      "metadata": {
        "id": "Q7nHtja_8x_d",
        "colab": {
          "base_uri": "https://localhost:8080/"
        },
        "outputId": "56dbabe4-5a6b-4589-84c2-6de4f37d13da"
      },
      "source": [
        "ims.shape"
      ],
      "execution_count": null,
      "outputs": [
        {
          "output_type": "execute_result",
          "data": {
            "text/plain": [
              "(1000, 424, 424, 3)"
            ]
          },
          "metadata": {},
          "execution_count": 10
        }
      ]
    },
    {
      "cell_type": "code",
      "source": [
        "training_labels2 = pd.read_csv(\"training_solutions_rev1_short.csv\")\n",
        "training_labels2"
      ],
      "metadata": {
        "id": "yXSqr0-O0xAg",
        "colab": {
          "base_uri": "https://localhost:8080/",
          "height": 424
        },
        "outputId": "16f62c11-718a-4740-8657-22e5b685c785"
      },
      "execution_count": null,
      "outputs": [
        {
          "output_type": "execute_result",
          "data": {
            "text/plain": [
              "            nga       spi       ell       irr\n",
              "0      0.000000  0.512101  0.945547  0.027227\n",
              "1      0.009222  0.236781  0.810851  0.140353\n",
              "2      0.056931  0.117790  1.000000  0.000000\n",
              "3      0.068059  0.125280  0.679602  0.128159\n",
              "4      0.066161  0.000000  0.970617  0.029383\n",
              "...         ...       ...       ...       ...\n",
              "61573  0.000000  0.260804  0.754266  0.175454\n",
              "61574  0.000000  0.053406  0.872356  0.062095\n",
              "61575  0.019783  0.347328  0.160814  0.604214\n",
              "61576  0.000000  0.545764  0.136000  0.500256\n",
              "61577  0.093000  0.070000  0.667000  0.204795\n",
              "\n",
              "[61578 rows x 4 columns]"
            ],
            "text/html": [
              "\n",
              "  <div id=\"df-aac4e7fd-98f1-4dbe-b072-b7585e29326c\" class=\"colab-df-container\">\n",
              "    <div>\n",
              "<style scoped>\n",
              "    .dataframe tbody tr th:only-of-type {\n",
              "        vertical-align: middle;\n",
              "    }\n",
              "\n",
              "    .dataframe tbody tr th {\n",
              "        vertical-align: top;\n",
              "    }\n",
              "\n",
              "    .dataframe thead th {\n",
              "        text-align: right;\n",
              "    }\n",
              "</style>\n",
              "<table border=\"1\" class=\"dataframe\">\n",
              "  <thead>\n",
              "    <tr style=\"text-align: right;\">\n",
              "      <th></th>\n",
              "      <th>nga</th>\n",
              "      <th>spi</th>\n",
              "      <th>ell</th>\n",
              "      <th>irr</th>\n",
              "    </tr>\n",
              "  </thead>\n",
              "  <tbody>\n",
              "    <tr>\n",
              "      <th>0</th>\n",
              "      <td>0.000000</td>\n",
              "      <td>0.512101</td>\n",
              "      <td>0.945547</td>\n",
              "      <td>0.027227</td>\n",
              "    </tr>\n",
              "    <tr>\n",
              "      <th>1</th>\n",
              "      <td>0.009222</td>\n",
              "      <td>0.236781</td>\n",
              "      <td>0.810851</td>\n",
              "      <td>0.140353</td>\n",
              "    </tr>\n",
              "    <tr>\n",
              "      <th>2</th>\n",
              "      <td>0.056931</td>\n",
              "      <td>0.117790</td>\n",
              "      <td>1.000000</td>\n",
              "      <td>0.000000</td>\n",
              "    </tr>\n",
              "    <tr>\n",
              "      <th>3</th>\n",
              "      <td>0.068059</td>\n",
              "      <td>0.125280</td>\n",
              "      <td>0.679602</td>\n",
              "      <td>0.128159</td>\n",
              "    </tr>\n",
              "    <tr>\n",
              "      <th>4</th>\n",
              "      <td>0.066161</td>\n",
              "      <td>0.000000</td>\n",
              "      <td>0.970617</td>\n",
              "      <td>0.029383</td>\n",
              "    </tr>\n",
              "    <tr>\n",
              "      <th>...</th>\n",
              "      <td>...</td>\n",
              "      <td>...</td>\n",
              "      <td>...</td>\n",
              "      <td>...</td>\n",
              "    </tr>\n",
              "    <tr>\n",
              "      <th>61573</th>\n",
              "      <td>0.000000</td>\n",
              "      <td>0.260804</td>\n",
              "      <td>0.754266</td>\n",
              "      <td>0.175454</td>\n",
              "    </tr>\n",
              "    <tr>\n",
              "      <th>61574</th>\n",
              "      <td>0.000000</td>\n",
              "      <td>0.053406</td>\n",
              "      <td>0.872356</td>\n",
              "      <td>0.062095</td>\n",
              "    </tr>\n",
              "    <tr>\n",
              "      <th>61575</th>\n",
              "      <td>0.019783</td>\n",
              "      <td>0.347328</td>\n",
              "      <td>0.160814</td>\n",
              "      <td>0.604214</td>\n",
              "    </tr>\n",
              "    <tr>\n",
              "      <th>61576</th>\n",
              "      <td>0.000000</td>\n",
              "      <td>0.545764</td>\n",
              "      <td>0.136000</td>\n",
              "      <td>0.500256</td>\n",
              "    </tr>\n",
              "    <tr>\n",
              "      <th>61577</th>\n",
              "      <td>0.093000</td>\n",
              "      <td>0.070000</td>\n",
              "      <td>0.667000</td>\n",
              "      <td>0.204795</td>\n",
              "    </tr>\n",
              "  </tbody>\n",
              "</table>\n",
              "<p>61578 rows × 4 columns</p>\n",
              "</div>\n",
              "    <div class=\"colab-df-buttons\">\n",
              "\n",
              "  <div class=\"colab-df-container\">\n",
              "    <button class=\"colab-df-convert\" onclick=\"convertToInteractive('df-aac4e7fd-98f1-4dbe-b072-b7585e29326c')\"\n",
              "            title=\"Convert this dataframe to an interactive table.\"\n",
              "            style=\"display:none;\">\n",
              "\n",
              "  <svg xmlns=\"http://www.w3.org/2000/svg\" height=\"24px\" viewBox=\"0 -960 960 960\">\n",
              "    <path d=\"M120-120v-720h720v720H120Zm60-500h600v-160H180v160Zm220 220h160v-160H400v160Zm0 220h160v-160H400v160ZM180-400h160v-160H180v160Zm440 0h160v-160H620v160ZM180-180h160v-160H180v160Zm440 0h160v-160H620v160Z\"/>\n",
              "  </svg>\n",
              "    </button>\n",
              "\n",
              "  <style>\n",
              "    .colab-df-container {\n",
              "      display:flex;\n",
              "      gap: 12px;\n",
              "    }\n",
              "\n",
              "    .colab-df-convert {\n",
              "      background-color: #E8F0FE;\n",
              "      border: none;\n",
              "      border-radius: 50%;\n",
              "      cursor: pointer;\n",
              "      display: none;\n",
              "      fill: #1967D2;\n",
              "      height: 32px;\n",
              "      padding: 0 0 0 0;\n",
              "      width: 32px;\n",
              "    }\n",
              "\n",
              "    .colab-df-convert:hover {\n",
              "      background-color: #E2EBFA;\n",
              "      box-shadow: 0px 1px 2px rgba(60, 64, 67, 0.3), 0px 1px 3px 1px rgba(60, 64, 67, 0.15);\n",
              "      fill: #174EA6;\n",
              "    }\n",
              "\n",
              "    .colab-df-buttons div {\n",
              "      margin-bottom: 4px;\n",
              "    }\n",
              "\n",
              "    [theme=dark] .colab-df-convert {\n",
              "      background-color: #3B4455;\n",
              "      fill: #D2E3FC;\n",
              "    }\n",
              "\n",
              "    [theme=dark] .colab-df-convert:hover {\n",
              "      background-color: #434B5C;\n",
              "      box-shadow: 0px 1px 3px 1px rgba(0, 0, 0, 0.15);\n",
              "      filter: drop-shadow(0px 1px 2px rgba(0, 0, 0, 0.3));\n",
              "      fill: #FFFFFF;\n",
              "    }\n",
              "  </style>\n",
              "\n",
              "    <script>\n",
              "      const buttonEl =\n",
              "        document.querySelector('#df-aac4e7fd-98f1-4dbe-b072-b7585e29326c button.colab-df-convert');\n",
              "      buttonEl.style.display =\n",
              "        google.colab.kernel.accessAllowed ? 'block' : 'none';\n",
              "\n",
              "      async function convertToInteractive(key) {\n",
              "        const element = document.querySelector('#df-aac4e7fd-98f1-4dbe-b072-b7585e29326c');\n",
              "        const dataTable =\n",
              "          await google.colab.kernel.invokeFunction('convertToInteractive',\n",
              "                                                    [key], {});\n",
              "        if (!dataTable) return;\n",
              "\n",
              "        const docLinkHtml = 'Like what you see? Visit the ' +\n",
              "          '<a target=\"_blank\" href=https://colab.research.google.com/notebooks/data_table.ipynb>data table notebook</a>'\n",
              "          + ' to learn more about interactive tables.';\n",
              "        element.innerHTML = '';\n",
              "        dataTable['output_type'] = 'display_data';\n",
              "        await google.colab.output.renderOutput(dataTable, element);\n",
              "        const docLink = document.createElement('div');\n",
              "        docLink.innerHTML = docLinkHtml;\n",
              "        element.appendChild(docLink);\n",
              "      }\n",
              "    </script>\n",
              "  </div>\n",
              "\n",
              "\n",
              "<div id=\"df-9f866fdc-041a-4aa6-addd-7a4f9e27f8a9\">\n",
              "  <button class=\"colab-df-quickchart\" onclick=\"quickchart('df-9f866fdc-041a-4aa6-addd-7a4f9e27f8a9')\"\n",
              "            title=\"Suggest charts\"\n",
              "            style=\"display:none;\">\n",
              "\n",
              "<svg xmlns=\"http://www.w3.org/2000/svg\" height=\"24px\"viewBox=\"0 0 24 24\"\n",
              "     width=\"24px\">\n",
              "    <g>\n",
              "        <path d=\"M19 3H5c-1.1 0-2 .9-2 2v14c0 1.1.9 2 2 2h14c1.1 0 2-.9 2-2V5c0-1.1-.9-2-2-2zM9 17H7v-7h2v7zm4 0h-2V7h2v10zm4 0h-2v-4h2v4z\"/>\n",
              "    </g>\n",
              "</svg>\n",
              "  </button>\n",
              "\n",
              "<style>\n",
              "  .colab-df-quickchart {\n",
              "      --bg-color: #E8F0FE;\n",
              "      --fill-color: #1967D2;\n",
              "      --hover-bg-color: #E2EBFA;\n",
              "      --hover-fill-color: #174EA6;\n",
              "      --disabled-fill-color: #AAA;\n",
              "      --disabled-bg-color: #DDD;\n",
              "  }\n",
              "\n",
              "  [theme=dark] .colab-df-quickchart {\n",
              "      --bg-color: #3B4455;\n",
              "      --fill-color: #D2E3FC;\n",
              "      --hover-bg-color: #434B5C;\n",
              "      --hover-fill-color: #FFFFFF;\n",
              "      --disabled-bg-color: #3B4455;\n",
              "      --disabled-fill-color: #666;\n",
              "  }\n",
              "\n",
              "  .colab-df-quickchart {\n",
              "    background-color: var(--bg-color);\n",
              "    border: none;\n",
              "    border-radius: 50%;\n",
              "    cursor: pointer;\n",
              "    display: none;\n",
              "    fill: var(--fill-color);\n",
              "    height: 32px;\n",
              "    padding: 0;\n",
              "    width: 32px;\n",
              "  }\n",
              "\n",
              "  .colab-df-quickchart:hover {\n",
              "    background-color: var(--hover-bg-color);\n",
              "    box-shadow: 0 1px 2px rgba(60, 64, 67, 0.3), 0 1px 3px 1px rgba(60, 64, 67, 0.15);\n",
              "    fill: var(--button-hover-fill-color);\n",
              "  }\n",
              "\n",
              "  .colab-df-quickchart-complete:disabled,\n",
              "  .colab-df-quickchart-complete:disabled:hover {\n",
              "    background-color: var(--disabled-bg-color);\n",
              "    fill: var(--disabled-fill-color);\n",
              "    box-shadow: none;\n",
              "  }\n",
              "\n",
              "  .colab-df-spinner {\n",
              "    border: 2px solid var(--fill-color);\n",
              "    border-color: transparent;\n",
              "    border-bottom-color: var(--fill-color);\n",
              "    animation:\n",
              "      spin 1s steps(1) infinite;\n",
              "  }\n",
              "\n",
              "  @keyframes spin {\n",
              "    0% {\n",
              "      border-color: transparent;\n",
              "      border-bottom-color: var(--fill-color);\n",
              "      border-left-color: var(--fill-color);\n",
              "    }\n",
              "    20% {\n",
              "      border-color: transparent;\n",
              "      border-left-color: var(--fill-color);\n",
              "      border-top-color: var(--fill-color);\n",
              "    }\n",
              "    30% {\n",
              "      border-color: transparent;\n",
              "      border-left-color: var(--fill-color);\n",
              "      border-top-color: var(--fill-color);\n",
              "      border-right-color: var(--fill-color);\n",
              "    }\n",
              "    40% {\n",
              "      border-color: transparent;\n",
              "      border-right-color: var(--fill-color);\n",
              "      border-top-color: var(--fill-color);\n",
              "    }\n",
              "    60% {\n",
              "      border-color: transparent;\n",
              "      border-right-color: var(--fill-color);\n",
              "    }\n",
              "    80% {\n",
              "      border-color: transparent;\n",
              "      border-right-color: var(--fill-color);\n",
              "      border-bottom-color: var(--fill-color);\n",
              "    }\n",
              "    90% {\n",
              "      border-color: transparent;\n",
              "      border-bottom-color: var(--fill-color);\n",
              "    }\n",
              "  }\n",
              "</style>\n",
              "\n",
              "  <script>\n",
              "    async function quickchart(key) {\n",
              "      const quickchartButtonEl =\n",
              "        document.querySelector('#' + key + ' button');\n",
              "      quickchartButtonEl.disabled = true;  // To prevent multiple clicks.\n",
              "      quickchartButtonEl.classList.add('colab-df-spinner');\n",
              "      try {\n",
              "        const charts = await google.colab.kernel.invokeFunction(\n",
              "            'suggestCharts', [key], {});\n",
              "      } catch (error) {\n",
              "        console.error('Error during call to suggestCharts:', error);\n",
              "      }\n",
              "      quickchartButtonEl.classList.remove('colab-df-spinner');\n",
              "      quickchartButtonEl.classList.add('colab-df-quickchart-complete');\n",
              "    }\n",
              "    (() => {\n",
              "      let quickchartButtonEl =\n",
              "        document.querySelector('#df-9f866fdc-041a-4aa6-addd-7a4f9e27f8a9 button');\n",
              "      quickchartButtonEl.style.display =\n",
              "        google.colab.kernel.accessAllowed ? 'block' : 'none';\n",
              "    })();\n",
              "  </script>\n",
              "</div>\n",
              "    </div>\n",
              "  </div>\n"
            ]
          },
          "metadata": {},
          "execution_count": 11
        }
      ]
    },
    {
      "cell_type": "code",
      "metadata": {
        "id": "E8hRt94s9bGx"
      },
      "source": [
        "newclass = [np.where(training_labels2.iloc[i] == np.max(training_labels2.iloc[i]))[0][0]\n",
        "            for i in range(1000)]"
      ],
      "execution_count": null,
      "outputs": []
    },
    {
      "cell_type": "code",
      "metadata": {
        "id": "7QQuzDeT-hRa",
        "colab": {
          "base_uri": "https://localhost:8080/"
        },
        "outputId": "e2a24c9b-f0aa-4f49-ae1e-2229d2b87147"
      },
      "source": [
        "len(newclass)"
      ],
      "execution_count": null,
      "outputs": [
        {
          "output_type": "execute_result",
          "data": {
            "text/plain": [
              "1000"
            ]
          },
          "metadata": {},
          "execution_count": 13
        }
      ]
    },
    {
      "cell_type": "markdown",
      "metadata": {
        "id": "_DIuwmYz99nU"
      },
      "source": [
        "# split a 1000 galaxies dataset into train-test with a proportion of 2-1. Note that 1000 object is a critically small dataset for DNN!"
      ]
    },
    {
      "cell_type": "code",
      "metadata": {
        "id": "A5ITjQ9MuHa_"
      },
      "source": [
        "X_train, X_test, y_train, y_test = train_test_split(ims, training_labels2.iloc[:1000].values, test_size=0.33, random_state=42)"
      ],
      "execution_count": null,
      "outputs": []
    },
    {
      "cell_type": "code",
      "metadata": {
        "id": "PpraHj5RQZSM",
        "colab": {
          "base_uri": "https://localhost:8080/"
        },
        "outputId": "96e0bbbe-3c3e-4ee3-e138-0032af0ab026"
      },
      "source": [
        "X_train.shape"
      ],
      "execution_count": null,
      "outputs": [
        {
          "output_type": "execute_result",
          "data": {
            "text/plain": [
              "(670, 424, 424, 3)"
            ]
          },
          "metadata": {},
          "execution_count": 29
        }
      ]
    },
    {
      "cell_type": "code",
      "metadata": {
        "id": "GUG41C8LGf-K"
      },
      "source": [
        "img_rows, img_cols = X_train.shape[1], X_train.shape[2]\n",
        "#x_train = X_train.reshape(X_train.shape[0], img_rows, img_cols, 1)\n",
        "#x_test = X_test.reshape(X_test.shape[0], img_rows, img_cols, 1)\n",
        "input_shape = X_train.shape[1:]\n"
      ],
      "execution_count": null,
      "outputs": []
    },
    {
      "cell_type": "code",
      "metadata": {
        "id": "VEPiH26YGtf9",
        "colab": {
          "base_uri": "https://localhost:8080/"
        },
        "outputId": "761fb21b-a6e8-41cb-f3a4-c0c13b9b7807"
      },
      "source": [
        "X_train.shape"
      ],
      "execution_count": null,
      "outputs": [
        {
          "output_type": "execute_result",
          "data": {
            "text/plain": [
              "(670, 424, 424, 3)"
            ]
          },
          "metadata": {},
          "execution_count": 31
        }
      ]
    },
    {
      "cell_type": "code",
      "metadata": {
        "id": "MuNiLk1A3bHn"
      },
      "source": [
        "X_train = X_train / 255.0\n",
        "X_test = X_test / 255.0\n"
      ],
      "execution_count": null,
      "outputs": []
    },
    {
      "cell_type": "code",
      "metadata": {
        "id": "4M0sprDH-Z_1",
        "colab": {
          "base_uri": "https://localhost:8080/"
        },
        "outputId": "1f145724-89b5-4a2d-ea02-0a0348489e80"
      },
      "source": [
        "batch_size = 8\n",
        "num_classes = 4\n",
        "epochs = 50\n",
        "input_shape = ims[0].shape\n",
        "input_shape"
      ],
      "execution_count": null,
      "outputs": [
        {
          "output_type": "execute_result",
          "data": {
            "text/plain": [
              "(424, 424, 3)"
            ]
          },
          "metadata": {},
          "execution_count": 33
        }
      ]
    },
    {
      "cell_type": "code",
      "metadata": {
        "id": "xyvjv1-62231",
        "colab": {
          "base_uri": "https://localhost:8080/"
        },
        "outputId": "80d1c58f-499e-4529-ae3b-b67d26d1a97c"
      },
      "source": [
        "y_train.shape"
      ],
      "execution_count": null,
      "outputs": [
        {
          "output_type": "execute_result",
          "data": {
            "text/plain": [
              "(670, 4)"
            ]
          },
          "metadata": {},
          "execution_count": 34
        }
      ]
    },
    {
      "cell_type": "code",
      "metadata": {
        "id": "a75cqn2oAl0B"
      },
      "source": [
        "\n",
        "# Set Optimizer\n",
        "opt = Adam(learning_rate=0.001)"
      ],
      "execution_count": null,
      "outputs": []
    },
    {
      "cell_type": "code",
      "metadata": {
        "id": "-2vVcTAR-Re0"
      },
      "source": [
        "def build_cnn(input_shape, num_classes):\n",
        "  inputs = layers.Input(shape = input_shape)\n",
        "\n",
        "  x = layers.Conv2D(32,kernel_size = (3,3), activation = 'relu')(inputs)\n",
        "  x = layers.Conv2D(32,kernel_size = (3,3), activation = 'relu')(x)\n",
        "  x = layers.MaxPooling2D(pool_size = (2,2))(x)\n",
        "  x = layers.Dropout()(x)\n",
        "  x = layers.Flatten()(x)\n",
        "  x = layers.Dense(512,activation = 'relu')(x)\n",
        "  x = layers.Dropout()(x)\n",
        "  x = layers.Dense(512,activation = 'relu')(x)\n",
        "  outputs = layers.Dense(num_classes, activation = 'softmax')(x)\n",
        "\n",
        "  model = keras.Model(inputs, outputs)\n",
        "  return model\n",
        "\n",
        "model = build_cnn(input_shape, num_classes)"
      ],
      "execution_count": null,
      "outputs": []
    },
    {
      "cell_type": "code",
      "metadata": {
        "id": "_fPuEDFA4fUQ",
        "colab": {
          "base_uri": "https://localhost:8080/"
        },
        "outputId": "fcd1565c-8f92-4220-ce19-bd9d2257629c"
      },
      "source": [
        "model.build()\n",
        "model.summary()"
      ],
      "execution_count": null,
      "outputs": [
        {
          "output_type": "stream",
          "name": "stdout",
          "text": [
            "Model: \"sequential_1\"\n",
            "_________________________________________________________________\n",
            " Layer (type)                Output Shape              Param #   \n",
            "=================================================================\n",
            " conv2d_2 (Conv2D)           (None, 415, 415, 32)      9632      \n",
            "                                                                 \n",
            " conv2d_3 (Conv2D)           (None, 413, 413, 64)      18496     \n",
            "                                                                 \n",
            " max_pooling2d_1 (MaxPoolin  (None, 206, 206, 64)      0         \n",
            " g2D)                                                            \n",
            "                                                                 \n",
            " dropout_2 (Dropout)         (None, 206, 206, 64)      0         \n",
            "                                                                 \n",
            " flatten_1 (Flatten)         (None, 2715904)           0         \n",
            "                                                                 \n",
            " dense_2 (Dense)             (None, 128)               347635840 \n",
            "                                                                 \n",
            " dropout_3 (Dropout)         (None, 128)               0         \n",
            "                                                                 \n",
            " dense_3 (Dense)             (None, 4)                 516       \n",
            "                                                                 \n",
            "=================================================================\n",
            "Total params: 347664484 (1.30 GB)\n",
            "Trainable params: 347664484 (1.30 GB)\n",
            "Non-trainable params: 0 (0.00 Byte)\n",
            "_________________________________________________________________\n"
          ]
        }
      ]
    },
    {
      "cell_type": "code",
      "metadata": {
        "id": "TdVMBxrmMxC6"
      },
      "source": [
        "#callbacks\n",
        "patience = EarlyStopping(patience=5) #stops running if metric does not improve for 5 epochs in a row\n",
        "filepath = \"galcheckpoints/cnn-improvement-{epoch:02d}-{loss:.4f}.hd5\"\n",
        "checkpoint = ModelCheckpoint(filepath, monitor='loss', verbose=1,\n",
        "                             save_best_only=True, mode='min') # saves intermediate weights at each epoch (for the best batch output)"
      ],
      "execution_count": null,
      "outputs": []
    },
    {
      "cell_type": "code",
      "metadata": {
        "id": "gesmhtdpMzXS"
      },
      "source": [
        "# you can skip this and load the saved model\n",
        "history = model.fit(...)#, checkpoint])"
      ],
      "execution_count": null,
      "outputs": []
    },
    {
      "cell_type": "code",
      "metadata": {
        "id": "zxecyD5oqGTj"
      },
      "source": [
        "#test_loss, test_acc = model.evaluate(X_test, y_test)"
      ],
      "execution_count": null,
      "outputs": []
    },
    {
      "cell_type": "code",
      "source": [
        "pl.plot(history.history['accuracy'])"
      ],
      "metadata": {
        "id": "xlMuVfDcJ6D9"
      },
      "execution_count": null,
      "outputs": []
    },
    {
      "cell_type": "code",
      "metadata": {
        "id": "BABgFB0fDYA1"
      },
      "source": [
        "score = model.evaluate(X_test[:10], y_test[:10])\n"
      ],
      "execution_count": null,
      "outputs": []
    },
    {
      "cell_type": "code",
      "metadata": {
        "id": "y4kAkfTPDqUD"
      },
      "source": [
        "score"
      ],
      "execution_count": null,
      "outputs": []
    },
    {
      "cell_type": "code",
      "metadata": {
        "id": "YB6RI2I6_6p4"
      },
      "source": [
        "from scipy import ndimage, misc\n",
        "newimg = np.zeros([1000*5, img.shape[0], img.shape[1], img.shape[2]],\n",
        "                  dtype=np.uint8)\n",
        "np.random.seed(123)\n",
        "for i in range(len(ims)):\n",
        "  angles = np.random.rand(4) *   180\n",
        "  newimg[i*5] = ims[i].copy()\n",
        "  for j,a in enumerate(angles):\n",
        "\n",
        "    newimg[i*5+1+j] = ndimage.rotate(newimg[i*5], a,\n",
        "                                         reshape=False, mode='mirror')\n",
        "\n"
      ],
      "execution_count": null,
      "outputs": []
    },
    {
      "cell_type": "code",
      "metadata": {
        "id": "YRrJ-_eJ-mn_"
      },
      "source": [
        "pl.imshow(ims[0])"
      ],
      "execution_count": null,
      "outputs": []
    },
    {
      "cell_type": "code",
      "metadata": {
        "id": "AHypSFN041fg"
      },
      "source": [
        "\n",
        "for i in range (10):\n",
        "  pl.imshow(newimg[i])\n",
        "  pl.show()"
      ],
      "execution_count": null,
      "outputs": []
    },
    {
      "cell_type": "markdown",
      "metadata": {
        "id": "7Kq-8cZ05AFO"
      },
      "source": [
        "in a look like the one above, take each image and rotate if by a random angle, **but also change its contrast by a random amount**. see the example below. choose small contrast changes if you want your images to remain realistic"
      ]
    },
    {
      "cell_type": "code",
      "metadata": {
        "id": "53XX_HBo5us0"
      },
      "source": [
        "fig = pl.figure()\n",
        "# a power < 1 (here 0.2) lowers the contrast\n",
        "imgnew = ims[10].astype(float)**0.6\n",
        "\n",
        "#normalize: reset range to 0-255\n",
        "imgnew *= 255 / imgnew.max()\n",
        "imgnew = imgnew.astype(np.uint8)\n",
        "\n",
        "pl.imshow(ims[10])\n",
        "\n",
        "fig = pl.figure()\n",
        "pl.imshow(imgnew)\n",
        "\n"
      ],
      "execution_count": null,
      "outputs": []
    },
    {
      "cell_type": "code",
      "metadata": {
        "id": "hyKVmr0xL37a"
      },
      "source": [],
      "execution_count": null,
      "outputs": []
    }
  ]
}