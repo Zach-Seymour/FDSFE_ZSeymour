{
  "nbformat": 4,
  "nbformat_minor": 0,
  "metadata": {
    "anaconda-cloud": {},
    "kernelspec": {
      "display_name": "Python 3",
      "name": "python3"
    },
    "language_info": {
      "name": "python"
    },
    "colab": {
      "provenance": [],
      "include_colab_link": true
    }
  },
  "cells": [
    {
      "cell_type": "markdown",
      "metadata": {
        "id": "view-in-github",
        "colab_type": "text"
      },
      "source": [
        "<a href=\"https://colab.research.google.com/github/Zach-Seymour/FDSFE_ZSeymour/blob/main/HW4/citibike_statistical_practice.ipynb\" target=\"_parent\"><img src=\"https://colab.research.google.com/assets/colab-badge.svg\" alt=\"Open In Colab\"/></a>"
      ]
    },
    {
      "cell_type": "markdown",
      "metadata": {
        "id": "4aESq4aYc3Tw"
      },
      "source": [
        "# Written by Federica B. Bianco @fedhere\n",
        "# for UDel FDSfE 2022\n",
        "\n",
        "\n",
        "Citibikes is the shared bike services for NYC and they historically have done a great job at making their data public (while respecting people's privacy of course! well... almost always... https://www.wsj.com/articles/SB10001424127887323829104578624263439561672)\n",
        "\n",
        "-  The \"idea\" is that citi bikes, which are farily bulky bikes, may be designed in such a way that they are more comfortable for larger people, and therefore, on average, for men.  \n",
        "\n",
        "-  If the bikes are uncomfortable, the users will not use them for long trips. So to test that you can measure the trip duration for customers that are registered as male and customers that are registered as female and see (1) if they  have the same mean, and (2) if they are \"the same\" distribution (more precisely you will meausre if they come from the \"same parent distribution\").\n",
        "\n",
        "-  Choose the significance threshold\n",
        "\n",
        "-  Wrangle the data so that it is ready for your analysis.\n",
        "\n",
        "-  Explore the data statistical properties (mean, standard deviation...)\n",
        "\n",
        "-  Clearly state they Null and Alternate hypothesis for the first question\n",
        "\n",
        "-  Answer the first question with a t-test\n",
        "\n",
        "-  Clearly state they Null and Alternate hypothesis for the second question\n",
        "\n",
        "-  Answer the second question with a ks_2sample test\n",
        "\n",
        "\n",
        "-  Extra Credit: split the sample in week-days and weekends and redo the analysis for the week-days and weekend cases separately"
      ]
    },
    {
      "cell_type": "code",
      "metadata": {
        "scrolled": true,
        "id": "LEcE6IScc3Tx"
      },
      "source": [
        "import matplotlib.pyplot as plt\n",
        "import pandas as pd\n",
        "import numpy as np\n",
        "from scipy import stats"
      ],
      "execution_count": 1,
      "outputs": []
    },
    {
      "cell_type": "markdown",
      "metadata": {
        "id": "V-bKj0Xjc3T5"
      },
      "source": [
        "# IDEA:\n",
        " Citibike usage would be different by gender if the bikes are more comfrotable for people who are taller and with larger frames.\n",
        "\n",
        "Remember:\n",
        "### NULL HYPOTHESIS _H0_:\n",
        "You want to falsify it so make it the opposite of your idea\n",
        "\n",
        "\n",
        "### ALTERNATIVE HYPOTHESIS _HA_:\n",
        "This shoudl be the complement of the NULL, including everything that the NULL does not\n",
        "\n",
        "\n"
      ]
    },
    {
      "cell_type": "code",
      "source": [
        "pvalue = ..."
      ],
      "metadata": {
        "id": "O-ZZoG1GeqX_"
      },
      "execution_count": null,
      "outputs": []
    },
    {
      "cell_type": "markdown",
      "metadata": {
        "id": "I-bfLntac3T7"
      },
      "source": [
        "# Data gathering\n",
        "Get a single month of data:  reading data from citibike csv file from May 2019\n",
        "\n",
        "\n",
        "\n",
        "read a csv file with pandas so that the content is stored in a \"DataFrame\"."
      ]
    },
    {
      "cell_type": "code",
      "metadata": {
        "id": "TLDKMJbyc3UL",
        "colab": {
          "base_uri": "https://localhost:8080/",
          "height": 756
        },
        "outputId": "f7aa10a8-9754-4b3b-b9ae-2427bf4156fd"
      },
      "source": [
        "datestring = '201905'\n",
        "cbMay19 = pd.read_csv(\"https://s3.amazonaws.com/tripdata/\"+ datestring + \"-citibike-tripdata.csv.zip\")\n",
        "cbMay19"
      ],
      "execution_count": 2,
      "outputs": [
        {
          "output_type": "execute_result",
          "data": {
            "text/plain": [
              "         tripduration                 starttime                  stoptime  \\\n",
              "0                 139  2019-05-01 00:00:01.9010  2019-05-01 00:02:21.5170   \n",
              "1                 754  2019-05-01 00:00:03.0210  2019-05-01 00:12:37.6920   \n",
              "2                2308  2019-05-01 00:00:04.6270  2019-05-01 00:38:33.1710   \n",
              "3                 143  2019-05-01 00:00:19.3340  2019-05-01 00:02:42.5200   \n",
              "4                 138  2019-05-01 00:00:22.1840  2019-05-01 00:02:40.6480   \n",
              "...               ...                       ...                       ...   \n",
              "1924558           304  2019-05-31 23:59:45.5760  2019-06-01 00:04:50.4620   \n",
              "1924559           324  2019-05-31 23:59:46.4650  2019-06-01 00:05:11.1630   \n",
              "1924560          1926  2019-05-31 23:59:51.5060  2019-06-01 00:31:58.3920   \n",
              "1924561          2047  2019-05-31 23:59:52.4170  2019-06-01 00:34:00.1970   \n",
              "1924562           964  2019-05-31 23:59:55.5500  2019-06-01 00:15:59.8680   \n",
              "\n",
              "         start station id         start station name  start station latitude  \\\n",
              "0                     447            8 Ave & W 52 St               40.763707   \n",
              "1                    3258           W 27 St & 10 Ave               40.750182   \n",
              "2                    3093       N 6 St & Bedford Ave               40.717452   \n",
              "3                    3486  Schermerhorn St & Bond St               40.688417   \n",
              "4                     388           W 26 St & 10 Ave               40.749718   \n",
              "...                   ...                        ...                     ...   \n",
              "1924558              3175    W 70 St & Amsterdam Ave               40.777480   \n",
              "1924559              2003            1 Ave & E 18 St               40.733812   \n",
              "1924560               146       Hudson St & Reade St               40.716250   \n",
              "1924561              3658            W 18 St & 9 Ave               40.743534   \n",
              "1924562               285         Broadway & E 14 St               40.734546   \n",
              "\n",
              "         start station longitude  end station id            end station name  \\\n",
              "0                     -73.985162             423             W 54 St & 9 Ave   \n",
              "1                     -74.002184            3255             8 Ave & W 31 St   \n",
              "2                     -73.958509            3676  Van Brunt St & Van Dyke St   \n",
              "3                     -73.984517            3412      Pacific St & Nevins St   \n",
              "4                     -74.002950             494             W 26 St & 8 Ave   \n",
              "...                          ...             ...                         ...   \n",
              "1924558               -73.982886             423             W 54 St & 9 Ave   \n",
              "1924559               -73.980544             536             1 Ave & E 30 St   \n",
              "1924560               -74.009106             422            W 59 St & 10 Ave   \n",
              "1924561               -74.003676            2008       Little West St & 1 Pl   \n",
              "1924562               -73.990741            3656           E 2 St & Avenue A   \n",
              "\n",
              "         end station latitude  end station longitude  bikeid    usertype  \\\n",
              "0                   40.765849             -73.986905   31170  Subscriber   \n",
              "1                   40.750585             -73.994685   25560    Customer   \n",
              "2                   40.675833             -74.014726   33369  Subscriber   \n",
              "3                   40.685376             -73.983021   32041  Subscriber   \n",
              "4                   40.747348             -73.997236   35237  Subscriber   \n",
              "...                       ...                    ...     ...         ...   \n",
              "1924558             40.765849             -73.986905   32285  Subscriber   \n",
              "1924559             40.741444             -73.975361   33874  Subscriber   \n",
              "1924560             40.770513             -73.988038   33395  Subscriber   \n",
              "1924561             40.705693             -74.016777   27624  Subscriber   \n",
              "1924562             40.723077             -73.985836   32565  Subscriber   \n",
              "\n",
              "         birth year  gender  \n",
              "0              1983       1  \n",
              "1              1969       0  \n",
              "2              1978       1  \n",
              "3              1997       1  \n",
              "4              1967       1  \n",
              "...             ...     ...  \n",
              "1924558        1987       2  \n",
              "1924559        1994       2  \n",
              "1924560        1985       1  \n",
              "1924561        1987       0  \n",
              "1924562        1992       2  \n",
              "\n",
              "[1924563 rows x 15 columns]"
            ],
            "text/html": [
              "\n",
              "  <div id=\"df-4a01f977-aa27-4623-87c8-b7235da9450f\" class=\"colab-df-container\">\n",
              "    <div>\n",
              "<style scoped>\n",
              "    .dataframe tbody tr th:only-of-type {\n",
              "        vertical-align: middle;\n",
              "    }\n",
              "\n",
              "    .dataframe tbody tr th {\n",
              "        vertical-align: top;\n",
              "    }\n",
              "\n",
              "    .dataframe thead th {\n",
              "        text-align: right;\n",
              "    }\n",
              "</style>\n",
              "<table border=\"1\" class=\"dataframe\">\n",
              "  <thead>\n",
              "    <tr style=\"text-align: right;\">\n",
              "      <th></th>\n",
              "      <th>tripduration</th>\n",
              "      <th>starttime</th>\n",
              "      <th>stoptime</th>\n",
              "      <th>start station id</th>\n",
              "      <th>start station name</th>\n",
              "      <th>start station latitude</th>\n",
              "      <th>start station longitude</th>\n",
              "      <th>end station id</th>\n",
              "      <th>end station name</th>\n",
              "      <th>end station latitude</th>\n",
              "      <th>end station longitude</th>\n",
              "      <th>bikeid</th>\n",
              "      <th>usertype</th>\n",
              "      <th>birth year</th>\n",
              "      <th>gender</th>\n",
              "    </tr>\n",
              "  </thead>\n",
              "  <tbody>\n",
              "    <tr>\n",
              "      <th>0</th>\n",
              "      <td>139</td>\n",
              "      <td>2019-05-01 00:00:01.9010</td>\n",
              "      <td>2019-05-01 00:02:21.5170</td>\n",
              "      <td>447</td>\n",
              "      <td>8 Ave &amp; W 52 St</td>\n",
              "      <td>40.763707</td>\n",
              "      <td>-73.985162</td>\n",
              "      <td>423</td>\n",
              "      <td>W 54 St &amp; 9 Ave</td>\n",
              "      <td>40.765849</td>\n",
              "      <td>-73.986905</td>\n",
              "      <td>31170</td>\n",
              "      <td>Subscriber</td>\n",
              "      <td>1983</td>\n",
              "      <td>1</td>\n",
              "    </tr>\n",
              "    <tr>\n",
              "      <th>1</th>\n",
              "      <td>754</td>\n",
              "      <td>2019-05-01 00:00:03.0210</td>\n",
              "      <td>2019-05-01 00:12:37.6920</td>\n",
              "      <td>3258</td>\n",
              "      <td>W 27 St &amp; 10 Ave</td>\n",
              "      <td>40.750182</td>\n",
              "      <td>-74.002184</td>\n",
              "      <td>3255</td>\n",
              "      <td>8 Ave &amp; W 31 St</td>\n",
              "      <td>40.750585</td>\n",
              "      <td>-73.994685</td>\n",
              "      <td>25560</td>\n",
              "      <td>Customer</td>\n",
              "      <td>1969</td>\n",
              "      <td>0</td>\n",
              "    </tr>\n",
              "    <tr>\n",
              "      <th>2</th>\n",
              "      <td>2308</td>\n",
              "      <td>2019-05-01 00:00:04.6270</td>\n",
              "      <td>2019-05-01 00:38:33.1710</td>\n",
              "      <td>3093</td>\n",
              "      <td>N 6 St &amp; Bedford Ave</td>\n",
              "      <td>40.717452</td>\n",
              "      <td>-73.958509</td>\n",
              "      <td>3676</td>\n",
              "      <td>Van Brunt St &amp; Van Dyke St</td>\n",
              "      <td>40.675833</td>\n",
              "      <td>-74.014726</td>\n",
              "      <td>33369</td>\n",
              "      <td>Subscriber</td>\n",
              "      <td>1978</td>\n",
              "      <td>1</td>\n",
              "    </tr>\n",
              "    <tr>\n",
              "      <th>3</th>\n",
              "      <td>143</td>\n",
              "      <td>2019-05-01 00:00:19.3340</td>\n",
              "      <td>2019-05-01 00:02:42.5200</td>\n",
              "      <td>3486</td>\n",
              "      <td>Schermerhorn St &amp; Bond St</td>\n",
              "      <td>40.688417</td>\n",
              "      <td>-73.984517</td>\n",
              "      <td>3412</td>\n",
              "      <td>Pacific St &amp; Nevins St</td>\n",
              "      <td>40.685376</td>\n",
              "      <td>-73.983021</td>\n",
              "      <td>32041</td>\n",
              "      <td>Subscriber</td>\n",
              "      <td>1997</td>\n",
              "      <td>1</td>\n",
              "    </tr>\n",
              "    <tr>\n",
              "      <th>4</th>\n",
              "      <td>138</td>\n",
              "      <td>2019-05-01 00:00:22.1840</td>\n",
              "      <td>2019-05-01 00:02:40.6480</td>\n",
              "      <td>388</td>\n",
              "      <td>W 26 St &amp; 10 Ave</td>\n",
              "      <td>40.749718</td>\n",
              "      <td>-74.002950</td>\n",
              "      <td>494</td>\n",
              "      <td>W 26 St &amp; 8 Ave</td>\n",
              "      <td>40.747348</td>\n",
              "      <td>-73.997236</td>\n",
              "      <td>35237</td>\n",
              "      <td>Subscriber</td>\n",
              "      <td>1967</td>\n",
              "      <td>1</td>\n",
              "    </tr>\n",
              "    <tr>\n",
              "      <th>...</th>\n",
              "      <td>...</td>\n",
              "      <td>...</td>\n",
              "      <td>...</td>\n",
              "      <td>...</td>\n",
              "      <td>...</td>\n",
              "      <td>...</td>\n",
              "      <td>...</td>\n",
              "      <td>...</td>\n",
              "      <td>...</td>\n",
              "      <td>...</td>\n",
              "      <td>...</td>\n",
              "      <td>...</td>\n",
              "      <td>...</td>\n",
              "      <td>...</td>\n",
              "      <td>...</td>\n",
              "    </tr>\n",
              "    <tr>\n",
              "      <th>1924558</th>\n",
              "      <td>304</td>\n",
              "      <td>2019-05-31 23:59:45.5760</td>\n",
              "      <td>2019-06-01 00:04:50.4620</td>\n",
              "      <td>3175</td>\n",
              "      <td>W 70 St &amp; Amsterdam Ave</td>\n",
              "      <td>40.777480</td>\n",
              "      <td>-73.982886</td>\n",
              "      <td>423</td>\n",
              "      <td>W 54 St &amp; 9 Ave</td>\n",
              "      <td>40.765849</td>\n",
              "      <td>-73.986905</td>\n",
              "      <td>32285</td>\n",
              "      <td>Subscriber</td>\n",
              "      <td>1987</td>\n",
              "      <td>2</td>\n",
              "    </tr>\n",
              "    <tr>\n",
              "      <th>1924559</th>\n",
              "      <td>324</td>\n",
              "      <td>2019-05-31 23:59:46.4650</td>\n",
              "      <td>2019-06-01 00:05:11.1630</td>\n",
              "      <td>2003</td>\n",
              "      <td>1 Ave &amp; E 18 St</td>\n",
              "      <td>40.733812</td>\n",
              "      <td>-73.980544</td>\n",
              "      <td>536</td>\n",
              "      <td>1 Ave &amp; E 30 St</td>\n",
              "      <td>40.741444</td>\n",
              "      <td>-73.975361</td>\n",
              "      <td>33874</td>\n",
              "      <td>Subscriber</td>\n",
              "      <td>1994</td>\n",
              "      <td>2</td>\n",
              "    </tr>\n",
              "    <tr>\n",
              "      <th>1924560</th>\n",
              "      <td>1926</td>\n",
              "      <td>2019-05-31 23:59:51.5060</td>\n",
              "      <td>2019-06-01 00:31:58.3920</td>\n",
              "      <td>146</td>\n",
              "      <td>Hudson St &amp; Reade St</td>\n",
              "      <td>40.716250</td>\n",
              "      <td>-74.009106</td>\n",
              "      <td>422</td>\n",
              "      <td>W 59 St &amp; 10 Ave</td>\n",
              "      <td>40.770513</td>\n",
              "      <td>-73.988038</td>\n",
              "      <td>33395</td>\n",
              "      <td>Subscriber</td>\n",
              "      <td>1985</td>\n",
              "      <td>1</td>\n",
              "    </tr>\n",
              "    <tr>\n",
              "      <th>1924561</th>\n",
              "      <td>2047</td>\n",
              "      <td>2019-05-31 23:59:52.4170</td>\n",
              "      <td>2019-06-01 00:34:00.1970</td>\n",
              "      <td>3658</td>\n",
              "      <td>W 18 St &amp; 9 Ave</td>\n",
              "      <td>40.743534</td>\n",
              "      <td>-74.003676</td>\n",
              "      <td>2008</td>\n",
              "      <td>Little West St &amp; 1 Pl</td>\n",
              "      <td>40.705693</td>\n",
              "      <td>-74.016777</td>\n",
              "      <td>27624</td>\n",
              "      <td>Subscriber</td>\n",
              "      <td>1987</td>\n",
              "      <td>0</td>\n",
              "    </tr>\n",
              "    <tr>\n",
              "      <th>1924562</th>\n",
              "      <td>964</td>\n",
              "      <td>2019-05-31 23:59:55.5500</td>\n",
              "      <td>2019-06-01 00:15:59.8680</td>\n",
              "      <td>285</td>\n",
              "      <td>Broadway &amp; E 14 St</td>\n",
              "      <td>40.734546</td>\n",
              "      <td>-73.990741</td>\n",
              "      <td>3656</td>\n",
              "      <td>E 2 St &amp; Avenue A</td>\n",
              "      <td>40.723077</td>\n",
              "      <td>-73.985836</td>\n",
              "      <td>32565</td>\n",
              "      <td>Subscriber</td>\n",
              "      <td>1992</td>\n",
              "      <td>2</td>\n",
              "    </tr>\n",
              "  </tbody>\n",
              "</table>\n",
              "<p>1924563 rows × 15 columns</p>\n",
              "</div>\n",
              "    <div class=\"colab-df-buttons\">\n",
              "\n",
              "  <div class=\"colab-df-container\">\n",
              "    <button class=\"colab-df-convert\" onclick=\"convertToInteractive('df-4a01f977-aa27-4623-87c8-b7235da9450f')\"\n",
              "            title=\"Convert this dataframe to an interactive table.\"\n",
              "            style=\"display:none;\">\n",
              "\n",
              "  <svg xmlns=\"http://www.w3.org/2000/svg\" height=\"24px\" viewBox=\"0 -960 960 960\">\n",
              "    <path d=\"M120-120v-720h720v720H120Zm60-500h600v-160H180v160Zm220 220h160v-160H400v160Zm0 220h160v-160H400v160ZM180-400h160v-160H180v160Zm440 0h160v-160H620v160ZM180-180h160v-160H180v160Zm440 0h160v-160H620v160Z\"/>\n",
              "  </svg>\n",
              "    </button>\n",
              "\n",
              "  <style>\n",
              "    .colab-df-container {\n",
              "      display:flex;\n",
              "      gap: 12px;\n",
              "    }\n",
              "\n",
              "    .colab-df-convert {\n",
              "      background-color: #E8F0FE;\n",
              "      border: none;\n",
              "      border-radius: 50%;\n",
              "      cursor: pointer;\n",
              "      display: none;\n",
              "      fill: #1967D2;\n",
              "      height: 32px;\n",
              "      padding: 0 0 0 0;\n",
              "      width: 32px;\n",
              "    }\n",
              "\n",
              "    .colab-df-convert:hover {\n",
              "      background-color: #E2EBFA;\n",
              "      box-shadow: 0px 1px 2px rgba(60, 64, 67, 0.3), 0px 1px 3px 1px rgba(60, 64, 67, 0.15);\n",
              "      fill: #174EA6;\n",
              "    }\n",
              "\n",
              "    .colab-df-buttons div {\n",
              "      margin-bottom: 4px;\n",
              "    }\n",
              "\n",
              "    [theme=dark] .colab-df-convert {\n",
              "      background-color: #3B4455;\n",
              "      fill: #D2E3FC;\n",
              "    }\n",
              "\n",
              "    [theme=dark] .colab-df-convert:hover {\n",
              "      background-color: #434B5C;\n",
              "      box-shadow: 0px 1px 3px 1px rgba(0, 0, 0, 0.15);\n",
              "      filter: drop-shadow(0px 1px 2px rgba(0, 0, 0, 0.3));\n",
              "      fill: #FFFFFF;\n",
              "    }\n",
              "  </style>\n",
              "\n",
              "    <script>\n",
              "      const buttonEl =\n",
              "        document.querySelector('#df-4a01f977-aa27-4623-87c8-b7235da9450f button.colab-df-convert');\n",
              "      buttonEl.style.display =\n",
              "        google.colab.kernel.accessAllowed ? 'block' : 'none';\n",
              "\n",
              "      async function convertToInteractive(key) {\n",
              "        const element = document.querySelector('#df-4a01f977-aa27-4623-87c8-b7235da9450f');\n",
              "        const dataTable =\n",
              "          await google.colab.kernel.invokeFunction('convertToInteractive',\n",
              "                                                    [key], {});\n",
              "        if (!dataTable) return;\n",
              "\n",
              "        const docLinkHtml = 'Like what you see? Visit the ' +\n",
              "          '<a target=\"_blank\" href=https://colab.research.google.com/notebooks/data_table.ipynb>data table notebook</a>'\n",
              "          + ' to learn more about interactive tables.';\n",
              "        element.innerHTML = '';\n",
              "        dataTable['output_type'] = 'display_data';\n",
              "        await google.colab.output.renderOutput(dataTable, element);\n",
              "        const docLink = document.createElement('div');\n",
              "        docLink.innerHTML = docLinkHtml;\n",
              "        element.appendChild(docLink);\n",
              "      }\n",
              "    </script>\n",
              "  </div>\n",
              "\n",
              "\n",
              "<div id=\"df-5c5fb78a-d2de-482c-8187-5ca638f83e15\">\n",
              "  <button class=\"colab-df-quickchart\" onclick=\"quickchart('df-5c5fb78a-d2de-482c-8187-5ca638f83e15')\"\n",
              "            title=\"Suggest charts.\"\n",
              "            style=\"display:none;\">\n",
              "\n",
              "<svg xmlns=\"http://www.w3.org/2000/svg\" height=\"24px\"viewBox=\"0 0 24 24\"\n",
              "     width=\"24px\">\n",
              "    <g>\n",
              "        <path d=\"M19 3H5c-1.1 0-2 .9-2 2v14c0 1.1.9 2 2 2h14c1.1 0 2-.9 2-2V5c0-1.1-.9-2-2-2zM9 17H7v-7h2v7zm4 0h-2V7h2v10zm4 0h-2v-4h2v4z\"/>\n",
              "    </g>\n",
              "</svg>\n",
              "  </button>\n",
              "\n",
              "<style>\n",
              "  .colab-df-quickchart {\n",
              "      --bg-color: #E8F0FE;\n",
              "      --fill-color: #1967D2;\n",
              "      --hover-bg-color: #E2EBFA;\n",
              "      --hover-fill-color: #174EA6;\n",
              "      --disabled-fill-color: #AAA;\n",
              "      --disabled-bg-color: #DDD;\n",
              "  }\n",
              "\n",
              "  [theme=dark] .colab-df-quickchart {\n",
              "      --bg-color: #3B4455;\n",
              "      --fill-color: #D2E3FC;\n",
              "      --hover-bg-color: #434B5C;\n",
              "      --hover-fill-color: #FFFFFF;\n",
              "      --disabled-bg-color: #3B4455;\n",
              "      --disabled-fill-color: #666;\n",
              "  }\n",
              "\n",
              "  .colab-df-quickchart {\n",
              "    background-color: var(--bg-color);\n",
              "    border: none;\n",
              "    border-radius: 50%;\n",
              "    cursor: pointer;\n",
              "    display: none;\n",
              "    fill: var(--fill-color);\n",
              "    height: 32px;\n",
              "    padding: 0;\n",
              "    width: 32px;\n",
              "  }\n",
              "\n",
              "  .colab-df-quickchart:hover {\n",
              "    background-color: var(--hover-bg-color);\n",
              "    box-shadow: 0 1px 2px rgba(60, 64, 67, 0.3), 0 1px 3px 1px rgba(60, 64, 67, 0.15);\n",
              "    fill: var(--button-hover-fill-color);\n",
              "  }\n",
              "\n",
              "  .colab-df-quickchart-complete:disabled,\n",
              "  .colab-df-quickchart-complete:disabled:hover {\n",
              "    background-color: var(--disabled-bg-color);\n",
              "    fill: var(--disabled-fill-color);\n",
              "    box-shadow: none;\n",
              "  }\n",
              "\n",
              "  .colab-df-spinner {\n",
              "    border: 2px solid var(--fill-color);\n",
              "    border-color: transparent;\n",
              "    border-bottom-color: var(--fill-color);\n",
              "    animation:\n",
              "      spin 1s steps(1) infinite;\n",
              "  }\n",
              "\n",
              "  @keyframes spin {\n",
              "    0% {\n",
              "      border-color: transparent;\n",
              "      border-bottom-color: var(--fill-color);\n",
              "      border-left-color: var(--fill-color);\n",
              "    }\n",
              "    20% {\n",
              "      border-color: transparent;\n",
              "      border-left-color: var(--fill-color);\n",
              "      border-top-color: var(--fill-color);\n",
              "    }\n",
              "    30% {\n",
              "      border-color: transparent;\n",
              "      border-left-color: var(--fill-color);\n",
              "      border-top-color: var(--fill-color);\n",
              "      border-right-color: var(--fill-color);\n",
              "    }\n",
              "    40% {\n",
              "      border-color: transparent;\n",
              "      border-right-color: var(--fill-color);\n",
              "      border-top-color: var(--fill-color);\n",
              "    }\n",
              "    60% {\n",
              "      border-color: transparent;\n",
              "      border-right-color: var(--fill-color);\n",
              "    }\n",
              "    80% {\n",
              "      border-color: transparent;\n",
              "      border-right-color: var(--fill-color);\n",
              "      border-bottom-color: var(--fill-color);\n",
              "    }\n",
              "    90% {\n",
              "      border-color: transparent;\n",
              "      border-bottom-color: var(--fill-color);\n",
              "    }\n",
              "  }\n",
              "</style>\n",
              "\n",
              "  <script>\n",
              "    async function quickchart(key) {\n",
              "      const quickchartButtonEl =\n",
              "        document.querySelector('#' + key + ' button');\n",
              "      quickchartButtonEl.disabled = true;  // To prevent multiple clicks.\n",
              "      quickchartButtonEl.classList.add('colab-df-spinner');\n",
              "      try {\n",
              "        const charts = await google.colab.kernel.invokeFunction(\n",
              "            'suggestCharts', [key], {});\n",
              "      } catch (error) {\n",
              "        console.error('Error during call to suggestCharts:', error);\n",
              "      }\n",
              "      quickchartButtonEl.classList.remove('colab-df-spinner');\n",
              "      quickchartButtonEl.classList.add('colab-df-quickchart-complete');\n",
              "    }\n",
              "    (() => {\n",
              "      let quickchartButtonEl =\n",
              "        document.querySelector('#df-5c5fb78a-d2de-482c-8187-5ca638f83e15 button');\n",
              "      quickchartButtonEl.style.display =\n",
              "        google.colab.kernel.accessAllowed ? 'block' : 'none';\n",
              "    })();\n",
              "  </script>\n",
              "</div>\n",
              "    </div>\n",
              "  </div>\n"
            ]
          },
          "metadata": {},
          "execution_count": 2
        }
      ]
    },
    {
      "cell_type": "markdown",
      "source": [
        "# Data Exploration\n",
        "\n",
        "you know what to do!"
      ],
      "metadata": {
        "id": "c-Xh0btXc3UT"
      }
    },
    {
      "cell_type": "code",
      "source": [
        "cbMay19.columns"
      ],
      "metadata": {
        "id": "dqg07sA5fFXK",
        "colab": {
          "base_uri": "https://localhost:8080/"
        },
        "outputId": "bc9bb00f-d97e-4de4-bdc7-1a4bc15e29bb"
      },
      "execution_count": 4,
      "outputs": [
        {
          "output_type": "execute_result",
          "data": {
            "text/plain": [
              "Index(['tripduration', 'starttime', 'stoptime', 'start station id',\n",
              "       'start station name', 'start station latitude',\n",
              "       'start station longitude', 'end station id', 'end station name',\n",
              "       'end station latitude', 'end station longitude', 'bikeid', 'usertype',\n",
              "       'birth year', 'gender'],\n",
              "      dtype='object')"
            ]
          },
          "metadata": {},
          "execution_count": 4
        }
      ]
    },
    {
      "cell_type": "code",
      "source": [
        "cbMay19.info()"
      ],
      "metadata": {
        "colab": {
          "base_uri": "https://localhost:8080/"
        },
        "id": "9W5N5XFgHgt4",
        "outputId": "02ac9993-0704-469d-fcc9-cec49ca4817b"
      },
      "execution_count": 5,
      "outputs": [
        {
          "output_type": "stream",
          "name": "stdout",
          "text": [
            "<class 'pandas.core.frame.DataFrame'>\n",
            "RangeIndex: 1924563 entries, 0 to 1924562\n",
            "Data columns (total 15 columns):\n",
            " #   Column                   Dtype  \n",
            "---  ------                   -----  \n",
            " 0   tripduration             int64  \n",
            " 1   starttime                object \n",
            " 2   stoptime                 object \n",
            " 3   start station id         int64  \n",
            " 4   start station name       object \n",
            " 5   start station latitude   float64\n",
            " 6   start station longitude  float64\n",
            " 7   end station id           int64  \n",
            " 8   end station name         object \n",
            " 9   end station latitude     float64\n",
            " 10  end station longitude    float64\n",
            " 11  bikeid                   int64  \n",
            " 12  usertype                 object \n",
            " 13  birth year               int64  \n",
            " 14  gender                   int64  \n",
            "dtypes: float64(4), int64(6), object(5)\n",
            "memory usage: 220.2+ MB\n"
          ]
        }
      ]
    },
    {
      "cell_type": "code",
      "source": [
        "cbMay19.describe()"
      ],
      "metadata": {
        "colab": {
          "base_uri": "https://localhost:8080/",
          "height": 318
        },
        "id": "NwQDmsOkWXSp",
        "outputId": "188e7c77-0f3e-4468-8888-f7f77e6bf316"
      },
      "execution_count": 35,
      "outputs": [
        {
          "output_type": "execute_result",
          "data": {
            "text/plain": [
              "       tripduration  start station id  start station latitude  \\\n",
              "count  1.924563e+06      1.924563e+06            1.924563e+06   \n",
              "mean   1.067189e+03      1.671397e+03            4.073698e+01   \n",
              "std    1.254636e+04      1.473509e+03            3.062224e-02   \n",
              "min    6.100000e+01      7.200000e+01            4.065540e+01   \n",
              "25%    3.790000e+02      3.820000e+02            4.071740e+01   \n",
              "50%    6.530000e+02      5.160000e+02            4.073726e+01   \n",
              "75%    1.158000e+03      3.293000e+03            4.075757e+01   \n",
              "max    2.922656e+06      3.790000e+03            4.081439e+01   \n",
              "\n",
              "       start station longitude  end station id  end station latitude  \\\n",
              "count             1.924563e+06    1.924563e+06          1.924563e+06   \n",
              "mean             -7.398223e+01    1.664596e+03          4.073675e+01   \n",
              "std               1.970116e-02    1.473196e+03          3.048823e-02   \n",
              "min              -7.402535e+01    7.200000e+01          4.065540e+01   \n",
              "25%              -7.399595e+01    3.800000e+02          4.071723e+01   \n",
              "50%              -7.398518e+01    5.150000e+02          4.073705e+01   \n",
              "75%              -7.397121e+01    3.292000e+03          4.075715e+01   \n",
              "max              -7.390774e+01    3.790000e+03          4.081439e+01   \n",
              "\n",
              "       end station longitude        bikeid    birth year        gender  \n",
              "count           1.924563e+06  1.924563e+06  1.924563e+06  1.924563e+06  \n",
              "mean           -7.398248e+01  2.712861e+04  1.979833e+03  1.152992e+00  \n",
              "std             1.976340e-02  6.404188e+03  1.199213e+01  5.516776e-01  \n",
              "min            -7.406860e+01  1.452900e+04  1.885000e+03  0.000000e+00  \n",
              "25%            -7.399601e+01  2.082600e+04  1.969000e+03  1.000000e+00  \n",
              "50%            -7.398584e+01  2.878200e+04  1.982000e+03  1.000000e+00  \n",
              "75%            -7.397152e+01  3.257600e+04  1.990000e+03  1.000000e+00  \n",
              "max            -7.390774e+01  3.800200e+04  2.003000e+03  2.000000e+00  "
            ],
            "text/html": [
              "\n",
              "  <div id=\"df-280271c1-81e1-4a7e-9248-c5cccaf959b1\" class=\"colab-df-container\">\n",
              "    <div>\n",
              "<style scoped>\n",
              "    .dataframe tbody tr th:only-of-type {\n",
              "        vertical-align: middle;\n",
              "    }\n",
              "\n",
              "    .dataframe tbody tr th {\n",
              "        vertical-align: top;\n",
              "    }\n",
              "\n",
              "    .dataframe thead th {\n",
              "        text-align: right;\n",
              "    }\n",
              "</style>\n",
              "<table border=\"1\" class=\"dataframe\">\n",
              "  <thead>\n",
              "    <tr style=\"text-align: right;\">\n",
              "      <th></th>\n",
              "      <th>tripduration</th>\n",
              "      <th>start station id</th>\n",
              "      <th>start station latitude</th>\n",
              "      <th>start station longitude</th>\n",
              "      <th>end station id</th>\n",
              "      <th>end station latitude</th>\n",
              "      <th>end station longitude</th>\n",
              "      <th>bikeid</th>\n",
              "      <th>birth year</th>\n",
              "      <th>gender</th>\n",
              "    </tr>\n",
              "  </thead>\n",
              "  <tbody>\n",
              "    <tr>\n",
              "      <th>count</th>\n",
              "      <td>1.924563e+06</td>\n",
              "      <td>1.924563e+06</td>\n",
              "      <td>1.924563e+06</td>\n",
              "      <td>1.924563e+06</td>\n",
              "      <td>1.924563e+06</td>\n",
              "      <td>1.924563e+06</td>\n",
              "      <td>1.924563e+06</td>\n",
              "      <td>1.924563e+06</td>\n",
              "      <td>1.924563e+06</td>\n",
              "      <td>1.924563e+06</td>\n",
              "    </tr>\n",
              "    <tr>\n",
              "      <th>mean</th>\n",
              "      <td>1.067189e+03</td>\n",
              "      <td>1.671397e+03</td>\n",
              "      <td>4.073698e+01</td>\n",
              "      <td>-7.398223e+01</td>\n",
              "      <td>1.664596e+03</td>\n",
              "      <td>4.073675e+01</td>\n",
              "      <td>-7.398248e+01</td>\n",
              "      <td>2.712861e+04</td>\n",
              "      <td>1.979833e+03</td>\n",
              "      <td>1.152992e+00</td>\n",
              "    </tr>\n",
              "    <tr>\n",
              "      <th>std</th>\n",
              "      <td>1.254636e+04</td>\n",
              "      <td>1.473509e+03</td>\n",
              "      <td>3.062224e-02</td>\n",
              "      <td>1.970116e-02</td>\n",
              "      <td>1.473196e+03</td>\n",
              "      <td>3.048823e-02</td>\n",
              "      <td>1.976340e-02</td>\n",
              "      <td>6.404188e+03</td>\n",
              "      <td>1.199213e+01</td>\n",
              "      <td>5.516776e-01</td>\n",
              "    </tr>\n",
              "    <tr>\n",
              "      <th>min</th>\n",
              "      <td>6.100000e+01</td>\n",
              "      <td>7.200000e+01</td>\n",
              "      <td>4.065540e+01</td>\n",
              "      <td>-7.402535e+01</td>\n",
              "      <td>7.200000e+01</td>\n",
              "      <td>4.065540e+01</td>\n",
              "      <td>-7.406860e+01</td>\n",
              "      <td>1.452900e+04</td>\n",
              "      <td>1.885000e+03</td>\n",
              "      <td>0.000000e+00</td>\n",
              "    </tr>\n",
              "    <tr>\n",
              "      <th>25%</th>\n",
              "      <td>3.790000e+02</td>\n",
              "      <td>3.820000e+02</td>\n",
              "      <td>4.071740e+01</td>\n",
              "      <td>-7.399595e+01</td>\n",
              "      <td>3.800000e+02</td>\n",
              "      <td>4.071723e+01</td>\n",
              "      <td>-7.399601e+01</td>\n",
              "      <td>2.082600e+04</td>\n",
              "      <td>1.969000e+03</td>\n",
              "      <td>1.000000e+00</td>\n",
              "    </tr>\n",
              "    <tr>\n",
              "      <th>50%</th>\n",
              "      <td>6.530000e+02</td>\n",
              "      <td>5.160000e+02</td>\n",
              "      <td>4.073726e+01</td>\n",
              "      <td>-7.398518e+01</td>\n",
              "      <td>5.150000e+02</td>\n",
              "      <td>4.073705e+01</td>\n",
              "      <td>-7.398584e+01</td>\n",
              "      <td>2.878200e+04</td>\n",
              "      <td>1.982000e+03</td>\n",
              "      <td>1.000000e+00</td>\n",
              "    </tr>\n",
              "    <tr>\n",
              "      <th>75%</th>\n",
              "      <td>1.158000e+03</td>\n",
              "      <td>3.293000e+03</td>\n",
              "      <td>4.075757e+01</td>\n",
              "      <td>-7.397121e+01</td>\n",
              "      <td>3.292000e+03</td>\n",
              "      <td>4.075715e+01</td>\n",
              "      <td>-7.397152e+01</td>\n",
              "      <td>3.257600e+04</td>\n",
              "      <td>1.990000e+03</td>\n",
              "      <td>1.000000e+00</td>\n",
              "    </tr>\n",
              "    <tr>\n",
              "      <th>max</th>\n",
              "      <td>2.922656e+06</td>\n",
              "      <td>3.790000e+03</td>\n",
              "      <td>4.081439e+01</td>\n",
              "      <td>-7.390774e+01</td>\n",
              "      <td>3.790000e+03</td>\n",
              "      <td>4.081439e+01</td>\n",
              "      <td>-7.390774e+01</td>\n",
              "      <td>3.800200e+04</td>\n",
              "      <td>2.003000e+03</td>\n",
              "      <td>2.000000e+00</td>\n",
              "    </tr>\n",
              "  </tbody>\n",
              "</table>\n",
              "</div>\n",
              "    <div class=\"colab-df-buttons\">\n",
              "\n",
              "  <div class=\"colab-df-container\">\n",
              "    <button class=\"colab-df-convert\" onclick=\"convertToInteractive('df-280271c1-81e1-4a7e-9248-c5cccaf959b1')\"\n",
              "            title=\"Convert this dataframe to an interactive table.\"\n",
              "            style=\"display:none;\">\n",
              "\n",
              "  <svg xmlns=\"http://www.w3.org/2000/svg\" height=\"24px\" viewBox=\"0 -960 960 960\">\n",
              "    <path d=\"M120-120v-720h720v720H120Zm60-500h600v-160H180v160Zm220 220h160v-160H400v160Zm0 220h160v-160H400v160ZM180-400h160v-160H180v160Zm440 0h160v-160H620v160ZM180-180h160v-160H180v160Zm440 0h160v-160H620v160Z\"/>\n",
              "  </svg>\n",
              "    </button>\n",
              "\n",
              "  <style>\n",
              "    .colab-df-container {\n",
              "      display:flex;\n",
              "      gap: 12px;\n",
              "    }\n",
              "\n",
              "    .colab-df-convert {\n",
              "      background-color: #E8F0FE;\n",
              "      border: none;\n",
              "      border-radius: 50%;\n",
              "      cursor: pointer;\n",
              "      display: none;\n",
              "      fill: #1967D2;\n",
              "      height: 32px;\n",
              "      padding: 0 0 0 0;\n",
              "      width: 32px;\n",
              "    }\n",
              "\n",
              "    .colab-df-convert:hover {\n",
              "      background-color: #E2EBFA;\n",
              "      box-shadow: 0px 1px 2px rgba(60, 64, 67, 0.3), 0px 1px 3px 1px rgba(60, 64, 67, 0.15);\n",
              "      fill: #174EA6;\n",
              "    }\n",
              "\n",
              "    .colab-df-buttons div {\n",
              "      margin-bottom: 4px;\n",
              "    }\n",
              "\n",
              "    [theme=dark] .colab-df-convert {\n",
              "      background-color: #3B4455;\n",
              "      fill: #D2E3FC;\n",
              "    }\n",
              "\n",
              "    [theme=dark] .colab-df-convert:hover {\n",
              "      background-color: #434B5C;\n",
              "      box-shadow: 0px 1px 3px 1px rgba(0, 0, 0, 0.15);\n",
              "      filter: drop-shadow(0px 1px 2px rgba(0, 0, 0, 0.3));\n",
              "      fill: #FFFFFF;\n",
              "    }\n",
              "  </style>\n",
              "\n",
              "    <script>\n",
              "      const buttonEl =\n",
              "        document.querySelector('#df-280271c1-81e1-4a7e-9248-c5cccaf959b1 button.colab-df-convert');\n",
              "      buttonEl.style.display =\n",
              "        google.colab.kernel.accessAllowed ? 'block' : 'none';\n",
              "\n",
              "      async function convertToInteractive(key) {\n",
              "        const element = document.querySelector('#df-280271c1-81e1-4a7e-9248-c5cccaf959b1');\n",
              "        const dataTable =\n",
              "          await google.colab.kernel.invokeFunction('convertToInteractive',\n",
              "                                                    [key], {});\n",
              "        if (!dataTable) return;\n",
              "\n",
              "        const docLinkHtml = 'Like what you see? Visit the ' +\n",
              "          '<a target=\"_blank\" href=https://colab.research.google.com/notebooks/data_table.ipynb>data table notebook</a>'\n",
              "          + ' to learn more about interactive tables.';\n",
              "        element.innerHTML = '';\n",
              "        dataTable['output_type'] = 'display_data';\n",
              "        await google.colab.output.renderOutput(dataTable, element);\n",
              "        const docLink = document.createElement('div');\n",
              "        docLink.innerHTML = docLinkHtml;\n",
              "        element.appendChild(docLink);\n",
              "      }\n",
              "    </script>\n",
              "  </div>\n",
              "\n",
              "\n",
              "<div id=\"df-8ca025c8-ba1b-4b46-a505-f05ad85f1042\">\n",
              "  <button class=\"colab-df-quickchart\" onclick=\"quickchart('df-8ca025c8-ba1b-4b46-a505-f05ad85f1042')\"\n",
              "            title=\"Suggest charts.\"\n",
              "            style=\"display:none;\">\n",
              "\n",
              "<svg xmlns=\"http://www.w3.org/2000/svg\" height=\"24px\"viewBox=\"0 0 24 24\"\n",
              "     width=\"24px\">\n",
              "    <g>\n",
              "        <path d=\"M19 3H5c-1.1 0-2 .9-2 2v14c0 1.1.9 2 2 2h14c1.1 0 2-.9 2-2V5c0-1.1-.9-2-2-2zM9 17H7v-7h2v7zm4 0h-2V7h2v10zm4 0h-2v-4h2v4z\"/>\n",
              "    </g>\n",
              "</svg>\n",
              "  </button>\n",
              "\n",
              "<style>\n",
              "  .colab-df-quickchart {\n",
              "      --bg-color: #E8F0FE;\n",
              "      --fill-color: #1967D2;\n",
              "      --hover-bg-color: #E2EBFA;\n",
              "      --hover-fill-color: #174EA6;\n",
              "      --disabled-fill-color: #AAA;\n",
              "      --disabled-bg-color: #DDD;\n",
              "  }\n",
              "\n",
              "  [theme=dark] .colab-df-quickchart {\n",
              "      --bg-color: #3B4455;\n",
              "      --fill-color: #D2E3FC;\n",
              "      --hover-bg-color: #434B5C;\n",
              "      --hover-fill-color: #FFFFFF;\n",
              "      --disabled-bg-color: #3B4455;\n",
              "      --disabled-fill-color: #666;\n",
              "  }\n",
              "\n",
              "  .colab-df-quickchart {\n",
              "    background-color: var(--bg-color);\n",
              "    border: none;\n",
              "    border-radius: 50%;\n",
              "    cursor: pointer;\n",
              "    display: none;\n",
              "    fill: var(--fill-color);\n",
              "    height: 32px;\n",
              "    padding: 0;\n",
              "    width: 32px;\n",
              "  }\n",
              "\n",
              "  .colab-df-quickchart:hover {\n",
              "    background-color: var(--hover-bg-color);\n",
              "    box-shadow: 0 1px 2px rgba(60, 64, 67, 0.3), 0 1px 3px 1px rgba(60, 64, 67, 0.15);\n",
              "    fill: var(--button-hover-fill-color);\n",
              "  }\n",
              "\n",
              "  .colab-df-quickchart-complete:disabled,\n",
              "  .colab-df-quickchart-complete:disabled:hover {\n",
              "    background-color: var(--disabled-bg-color);\n",
              "    fill: var(--disabled-fill-color);\n",
              "    box-shadow: none;\n",
              "  }\n",
              "\n",
              "  .colab-df-spinner {\n",
              "    border: 2px solid var(--fill-color);\n",
              "    border-color: transparent;\n",
              "    border-bottom-color: var(--fill-color);\n",
              "    animation:\n",
              "      spin 1s steps(1) infinite;\n",
              "  }\n",
              "\n",
              "  @keyframes spin {\n",
              "    0% {\n",
              "      border-color: transparent;\n",
              "      border-bottom-color: var(--fill-color);\n",
              "      border-left-color: var(--fill-color);\n",
              "    }\n",
              "    20% {\n",
              "      border-color: transparent;\n",
              "      border-left-color: var(--fill-color);\n",
              "      border-top-color: var(--fill-color);\n",
              "    }\n",
              "    30% {\n",
              "      border-color: transparent;\n",
              "      border-left-color: var(--fill-color);\n",
              "      border-top-color: var(--fill-color);\n",
              "      border-right-color: var(--fill-color);\n",
              "    }\n",
              "    40% {\n",
              "      border-color: transparent;\n",
              "      border-right-color: var(--fill-color);\n",
              "      border-top-color: var(--fill-color);\n",
              "    }\n",
              "    60% {\n",
              "      border-color: transparent;\n",
              "      border-right-color: var(--fill-color);\n",
              "    }\n",
              "    80% {\n",
              "      border-color: transparent;\n",
              "      border-right-color: var(--fill-color);\n",
              "      border-bottom-color: var(--fill-color);\n",
              "    }\n",
              "    90% {\n",
              "      border-color: transparent;\n",
              "      border-bottom-color: var(--fill-color);\n",
              "    }\n",
              "  }\n",
              "</style>\n",
              "\n",
              "  <script>\n",
              "    async function quickchart(key) {\n",
              "      const quickchartButtonEl =\n",
              "        document.querySelector('#' + key + ' button');\n",
              "      quickchartButtonEl.disabled = true;  // To prevent multiple clicks.\n",
              "      quickchartButtonEl.classList.add('colab-df-spinner');\n",
              "      try {\n",
              "        const charts = await google.colab.kernel.invokeFunction(\n",
              "            'suggestCharts', [key], {});\n",
              "      } catch (error) {\n",
              "        console.error('Error during call to suggestCharts:', error);\n",
              "      }\n",
              "      quickchartButtonEl.classList.remove('colab-df-spinner');\n",
              "      quickchartButtonEl.classList.add('colab-df-quickchart-complete');\n",
              "    }\n",
              "    (() => {\n",
              "      let quickchartButtonEl =\n",
              "        document.querySelector('#df-8ca025c8-ba1b-4b46-a505-f05ad85f1042 button');\n",
              "      quickchartButtonEl.style.display =\n",
              "        google.colab.kernel.accessAllowed ? 'block' : 'none';\n",
              "    })();\n",
              "  </script>\n",
              "</div>\n",
              "    </div>\n",
              "  </div>\n"
            ]
          },
          "metadata": {},
          "execution_count": 35
        }
      ]
    },
    {
      "cell_type": "markdown",
      "source": [
        "You should have noticed the column gender: its encoded as a binary - 1 is for customers that identified as male, 2 for customers that identified as female. 0 is for non-binary and not registered genders"
      ],
      "metadata": {
        "id": "CS3tzONafwg0"
      }
    },
    {
      "cell_type": "markdown",
      "source": [
        "Because your variable of interest is \"tripduration\" explore this variable in some more detail."
      ],
      "metadata": {
        "id": "VG0ywkiUBfXP"
      }
    },
    {
      "cell_type": "code",
      "source": [
        "cbMay19['tripduration'].max()"
      ],
      "metadata": {
        "colab": {
          "base_uri": "https://localhost:8080/"
        },
        "id": "-RxhEu5UWhc5",
        "outputId": "13f4abbb-ae64-44bb-9b72-fedbe6cd5444"
      },
      "execution_count": 37,
      "outputs": [
        {
          "output_type": "execute_result",
          "data": {
            "text/plain": [
              "2922656"
            ]
          },
          "metadata": {},
          "execution_count": 37
        }
      ]
    },
    {
      "cell_type": "code",
      "source": [
        "cbMay19['tripduration'].min()"
      ],
      "metadata": {
        "colab": {
          "base_uri": "https://localhost:8080/"
        },
        "id": "Vo-fuAGxWpVk",
        "outputId": "14432f80-2020-4103-d94a-ed57afae704c"
      },
      "execution_count": 38,
      "outputs": [
        {
          "output_type": "execute_result",
          "data": {
            "text/plain": [
              "61"
            ]
          },
          "metadata": {},
          "execution_count": 38
        }
      ]
    },
    {
      "cell_type": "code",
      "source": [
        "cbMay19['tripduration'].std()"
      ],
      "metadata": {
        "colab": {
          "base_uri": "https://localhost:8080/"
        },
        "id": "edBeJGd2Wsbi",
        "outputId": "d8be5a5d-9f5a-4b13-aa98-92319b6810a9"
      },
      "execution_count": 39,
      "outputs": [
        {
          "output_type": "execute_result",
          "data": {
            "text/plain": [
              "12546.359985730754"
            ]
          },
          "metadata": {},
          "execution_count": 39
        }
      ]
    },
    {
      "cell_type": "code",
      "source": [
        "cbMay19['tripduration'].median()"
      ],
      "metadata": {
        "colab": {
          "base_uri": "https://localhost:8080/"
        },
        "id": "rvQb_WLQWvGF",
        "outputId": "ea0e493d-4f5d-4643-e337-1564fdcb88a4"
      },
      "execution_count": 40,
      "outputs": [
        {
          "output_type": "execute_result",
          "data": {
            "text/plain": [
              "653.0"
            ]
          },
          "metadata": {},
          "execution_count": 40
        }
      ]
    },
    {
      "cell_type": "code",
      "source": [
        "cbMay19['tripduration'].mean()"
      ],
      "metadata": {
        "colab": {
          "base_uri": "https://localhost:8080/"
        },
        "id": "tFZBIte7WxQo",
        "outputId": "375b2ebf-f2df-4786-d973-b0b74391361d"
      },
      "execution_count": 41,
      "outputs": [
        {
          "output_type": "execute_result",
          "data": {
            "text/plain": [
              "1067.189136962521"
            ]
          },
          "metadata": {},
          "execution_count": 41
        }
      ]
    },
    {
      "cell_type": "markdown",
      "source": [
        "The mean being far removed from the median could mean that there are some number of outliers present in the data."
      ],
      "metadata": {
        "id": "_37njpDqW2a4"
      }
    },
    {
      "cell_type": "markdown",
      "source": [
        "## Plot the trip duration distribution\n",
        "\n",
        "hint: when I say plot the distribution generally that means make a histogram\n"
      ],
      "metadata": {
        "id": "w72NVQw1BlQT"
      }
    },
    {
      "cell_type": "code",
      "source": [
        "plt.hist(cbMay19['tripduration']);\n",
        "plt.grid();\n",
        "plt.title('tripduration')\n",
        "plt.xlabel('trip duration in minutes');\n",
        "plt.ylabel('number of trips');"
      ],
      "metadata": {
        "colab": {
          "base_uri": "https://localhost:8080/",
          "height": 472
        },
        "id": "ZXyxSI7cI9pS",
        "outputId": "668dad57-0868-4fb2-cf64-ec5e043b096f"
      },
      "execution_count": 14,
      "outputs": [
        {
          "output_type": "display_data",
          "data": {
            "text/plain": [
              "<Figure size 640x480 with 1 Axes>"
            ],
            "image/png": "[encoded data removed]"
          },
          "metadata": {}
        }
      ]
    },
    {
      "cell_type": "markdown",
      "source": [
        "\n",
        "Figure 1: A histogram showing the distribution of the duration of each bike trips."
      ],
      "metadata": {
        "id": "k67tIw-hB9ea"
      }
    },
    {
      "cell_type": "markdown",
      "source": [
        "there are some really large numbers... trips that last >1000000 minutes...  clearly this is a data curation issue.\n",
        "\n",
        "You need to clean the data by removin all data for which tripduration > 1 day (remember the duration is in minutes) and remake the plot\n",
        "\n",
        "\n",
        "You can do it by setting the condition\n",
        "\n",
        "```cbMay19[\"tripduration\"] < ...```\n",
        "\n",
        "and using this condition as an index\n",
        "\n",
        "```cbMay19_clean = cbMay19[cbMay19[\"tripduration\"]....```\n",
        "\n",
        "Remake the histogram, now the sahape of the tripduration distribution should be much clearer"
      ],
      "metadata": {
        "id": "PJ05tSklhdtJ"
      }
    },
    {
      "cell_type": "code",
      "source": [
        "# your code here\n",
        "cbMay19_clean = cbMay19[cbMay19['tripduration']<1440]"
      ],
      "metadata": {
        "id": "-kgSltXXCl6L"
      },
      "execution_count": 15,
      "outputs": []
    },
    {
      "cell_type": "code",
      "source": [
        "plt.hist(cbMay19_clean['tripduration']);\n",
        "plt.grid();\n",
        "plt.title('tripduration')\n",
        "plt.xlabel('trip duration in minutes');\n",
        "plt.ylabel('number of trips');"
      ],
      "metadata": {
        "colab": {
          "base_uri": "https://localhost:8080/",
          "height": 472
        },
        "id": "A4SzC_ViQhUc",
        "outputId": "86c5a993-9105-4c33-aeb9-df75888f00e2"
      },
      "execution_count": 16,
      "outputs": [
        {
          "output_type": "display_data",
          "data": {
            "text/plain": [
              "<Figure size 640x480 with 1 Axes>"
            ],
            "image/png": "[encoded data removed]"
          },
          "metadata": {}
        }
      ]
    },
    {
      "cell_type": "markdown",
      "source": [
        "Figure 2: A histogram showing the distribution of trip durations up to 1 day rides. Shows a steady decline in occurence as the duration increases.\n"
      ],
      "metadata": {
        "id": "4CWrVbvFCnmJ"
      }
    },
    {
      "cell_type": "markdown",
      "metadata": {
        "id": "MNdxEpGHc3Uy"
      },
      "source": [
        "# Data Wrangling\n",
        "\n",
        "Split the data into two dataframes by gender\n",
        "save the data corresponding to \"gender\" == 1 and the data corresponding to \"gender\" == 2 into two separate dataframes. Again you can do it by setting a condition on the column ```[\"gender\"]```"
      ]
    },
    {
      "cell_type": "code",
      "source": [
        "male = cbMay19_clean[cbMay19_clean['gender']==1]\n",
        "female = cbMay19_clean[cbMay19_clean['gender']==2]"
      ],
      "metadata": {
        "id": "PQFl0umSgu4Z"
      },
      "execution_count": 17,
      "outputs": []
    },
    {
      "cell_type": "markdown",
      "source": [
        "## plot the trip duration distributions for gender=2 and gender=1\n",
        "\n"
      ],
      "metadata": {
        "id": "UOnTTHS7hQry"
      }
    },
    {
      "cell_type": "code",
      "source": [
        "# your code here\n",
        "plt.hist(male['tripduration']);\n",
        "plt.grid();\n",
        "plt.xlabel('trip duration in minutes');\n",
        "plt.ylabel('number of trips');\n",
        "\n",
        "plt.hist(female['tripduration']);\n",
        "plt.grid();\n",
        "plt.title('tripduration by gender')\n",
        "plt.xlabel('trip duration in minutes');\n",
        "plt.ylabel('number of trips');"
      ],
      "metadata": {
        "id": "opjwo2PQhUM3",
        "colab": {
          "base_uri": "https://localhost:8080/",
          "height": 472
        },
        "outputId": "7e476436-8604-4edd-f477-b5873f56a355"
      },
      "execution_count": 24,
      "outputs": [
        {
          "output_type": "display_data",
          "data": {
            "text/plain": [
              "<Figure size 640x480 with 1 Axes>"
            ],
            "image/png": "[encoded data removed]"
          },
          "metadata": {}
        }
      ]
    },
    {
      "cell_type": "markdown",
      "source": [
        "Figure 3:A histogram of trip duration broken down by gender, with men in blue and women in orange. This shows that there is a much larger sample of men than women in the dataset."
      ],
      "metadata": {
        "id": "iKCrWQq0Dcs6"
      }
    },
    {
      "cell_type": "markdown",
      "source": [
        "Notice how the histograms are differnt hights: one of the two categories has a lot more trips than the other one. Figure out which and discuss it in the caption"
      ],
      "metadata": {
        "id": "vayb-uH1hbnc"
      }
    },
    {
      "cell_type": "markdown",
      "source": [
        "# Statistical analysis\n",
        "Run two statistical tests: the t-test and the KS-test.\n"
      ],
      "metadata": {
        "id": "4AA7Qgp02wLa"
      }
    },
    {
      "cell_type": "code",
      "source": [
        "stats.ttest_ind(male['tripduration'],female['tripduration'])"
      ],
      "metadata": {
        "colab": {
          "base_uri": "https://localhost:8080/"
        },
        "id": "WPtlWxSDS9j8",
        "outputId": "623029cc-04c7-4089-d0bf-d4cf05d0002c"
      },
      "execution_count": 25,
      "outputs": [
        {
          "output_type": "execute_result",
          "data": {
            "text/plain": [
              "TtestResult(statistic=-100.84403665697792, pvalue=0.0, df=1497930.0)"
            ]
          },
          "metadata": {},
          "execution_count": 25
        }
      ]
    },
    {
      "cell_type": "code",
      "source": [
        "stats.kstest(male['tripduration'],female['tripduration'])"
      ],
      "metadata": {
        "colab": {
          "base_uri": "https://localhost:8080/"
        },
        "id": "-5L7B3O_S9-f",
        "outputId": "b523c995-709d-4613-f69e-7cacb48846de"
      },
      "execution_count": 26,
      "outputs": [
        {
          "output_type": "execute_result",
          "data": {
            "text/plain": [
              "KstestResult(statistic=0.08422140452629323, pvalue=0.0, statistic_location=525, statistic_sign=1)"
            ]
          },
          "metadata": {},
          "execution_count": 26
        }
      ]
    },
    {
      "cell_type": "markdown",
      "source": [
        "# Check if the mean of the samples is the same\n",
        "\n",
        "Your Null hypothesis _H0_ and Alternative hypotehsis _HA_ are respectively:\n",
        "\n",
        "H0: µ1 = µ2 (the two sample means are equal)\n",
        "\n",
        "HA: µ1 ≠µ2 (the two sample means are not equal)\n",
        "\n",
        "First look at the data summary statistics: are the means the same number? are the means contained within each other's standard deviations --- i.e. is\n",
        "\n",
        "_mean1 > mean2 - std2 and mean1 < mean2 + std2_\n",
        "\n",
        "or\n",
        "\n",
        "_mean2 > mean1 - std1 and mean2 < mean1 + std1_\n",
        "\n",
        "this will set some expextation.\n",
        "\n",
        "\n",
        "\n"
      ],
      "metadata": {
        "id": "-NL1cHQD3ccc"
      }
    },
    {
      "cell_type": "code",
      "source": [
        "print(\"mean male \" + str(male['tripduration'].mean()))\n",
        "print(\"std male \" +str(male['tripduration'].std()))\n",
        "\n",
        "print(\"mean female \" + str(female['tripduration'].mean()))\n",
        "print(\"std female \" +str(female['tripduration'].std()))"
      ],
      "metadata": {
        "id": "I1FUdJcF9rSV",
        "colab": {
          "base_uri": "https://localhost:8080/"
        },
        "outputId": "297a69e5-c712-4a0a-ec9f-b40e401616cd"
      },
      "execution_count": 30,
      "outputs": [
        {
          "output_type": "stream",
          "name": "stdout",
          "text": [
            "mean male 588.2070911461445\n",
            "std male 335.0298440931862\n",
            "mean female 652.1760137019039\n",
            "std female 342.0291207094665\n"
          ]
        }
      ]
    },
    {
      "cell_type": "markdown",
      "source": [
        "The means are fairly close to each other and with standard deviations more than half of each mean the likihood that these are different seems small.\n"
      ],
      "metadata": {
        "id": "wC_llSGm9s-c"
      }
    },
    {
      "cell_type": "markdown",
      "source": [
        "\n",
        "To answer the question more formally  test you can use the t-test. You can use the ```ttest_ind`` function in python ```scipy.stats.ttest_ind()``` passing the first sample for a and the other for b (ind stands for independent, i.e. the assumption is that the sample are independent samples)"
      ],
      "metadata": {
        "id": "DaybiE919rsy"
      }
    },
    {
      "cell_type": "code",
      "source": [
        "# get the usage information for the function here or on the webpage of the function\n",
        "stats.ttest_ind?"
      ],
      "metadata": {
        "id": "jmgUz1XH41q9"
      },
      "execution_count": null,
      "outputs": []
    },
    {
      "cell_type": "code",
      "source": [
        "# your code here\n",
        "stats.ttest_ind(male['tripduration'],female['tripduration'])"
      ],
      "metadata": {
        "id": "L64xiLnF3vuq",
        "colab": {
          "base_uri": "https://localhost:8080/"
        },
        "outputId": "933bfd35-7de9-4235-f902-066c5c515137"
      },
      "execution_count": 31,
      "outputs": [
        {
          "output_type": "execute_result",
          "data": {
            "text/plain": [
              "TtestResult(statistic=-100.84403665697792, pvalue=0.0, df=1497930.0)"
            ]
          },
          "metadata": {},
          "execution_count": 31
        }
      ]
    },
    {
      "cell_type": "markdown",
      "source": [
        "interpret the result based on your chosen confidence threshold and on the results of the ```ttest_ind`` function.\n",
        "\n"
      ],
      "metadata": {
        "id": "Zi5cvldc4JTC"
      }
    },
    {
      "cell_type": "markdown",
      "source": [
        "\n",
        "The t-test concludes that the means are different at the 95% threshold.\n"
      ],
      "metadata": {
        "id": "EWHoC6yP929C"
      }
    },
    {
      "cell_type": "markdown",
      "source": [
        "# Are the sample coming from the same parent distribution\n",
        "\n",
        "The next test answers the questions: do the samples come from the same generative process (or \"parent function\"). Often we write the hypothesis for this test more simple as \"are the distributions the same\"\n",
        "\n",
        "\n",
        "\n"
      ],
      "metadata": {
        "id": "p3A3h0AX3fyc"
      }
    },
    {
      "cell_type": "markdown",
      "source": [
        "H0: distributions are the same\n",
        "HA: distributions are different"
      ],
      "metadata": {
        "id": "4AdnfZpA-E0Y"
      }
    },
    {
      "cell_type": "markdown",
      "source": [
        "Run the test ```stats.ks_2samp```"
      ],
      "metadata": {
        "id": "Uej9-Fp4-I_M"
      }
    },
    {
      "cell_type": "code",
      "source": [
        "# your code here\n",
        "stats.ks_2samp(male['tripduration'],female['tripduration'])"
      ],
      "metadata": {
        "id": "rT58jrwfiWE0",
        "colab": {
          "base_uri": "https://localhost:8080/"
        },
        "outputId": "edf95dee-97dc-4826-e40c-46e0732b590e"
      },
      "execution_count": 32,
      "outputs": [
        {
          "output_type": "execute_result",
          "data": {
            "text/plain": [
              "KstestResult(statistic=0.08422140452629323, pvalue=0.0, statistic_location=525, statistic_sign=1)"
            ]
          },
          "metadata": {},
          "execution_count": 32
        }
      ]
    },
    {
      "cell_type": "markdown",
      "source": [
        "In fact this test is very sensitive to differences in the mean of the sample. To use the test properly one should first normalize the data. That is: subtract the mean and divide by the standard deviation. This is how you would do it (my two clean samples for gender = 1 and gender = 2 are called cbMay19_m and cbMay19_f, yours will be possibly called differently)"
      ],
      "metadata": {
        "id": "8SJCLvi_-OE1"
      }
    },
    {
      "cell_type": "code",
      "source": [
        "normed_f = (female[\"tripduration\"] - female[\"tripduration\"].mean()) / female[\"tripduration\"].std()\n",
        "normed_m = (male[\"tripduration\"] - male[\"tripduration\"].mean()) / male[\"tripduration\"].std()"
      ],
      "metadata": {
        "id": "7M1cvMNi-XNH"
      },
      "execution_count": 33,
      "outputs": []
    },
    {
      "cell_type": "markdown",
      "source": [
        "rerun the test after normalizing, did the conclusion change?"
      ],
      "metadata": {
        "id": "AYgiRMrA-7HD"
      }
    },
    {
      "cell_type": "code",
      "source": [
        "# your code here\n",
        "stats.ks_2samp(normed_f,normed_m)"
      ],
      "metadata": {
        "id": "9jXluvjE-6mD",
        "colab": {
          "base_uri": "https://localhost:8080/"
        },
        "outputId": "9fb2172e-198b-4630-e16f-c9c02c9ebf42"
      },
      "execution_count": 34,
      "outputs": [
        {
          "output_type": "execute_result",
          "data": {
            "text/plain": [
              "KstestResult(statistic=0.022785464212612745, pvalue=1.4148236782790818e-127, statistic_location=-1.275259874940326, statistic_sign=1)"
            ]
          },
          "metadata": {},
          "execution_count": 34
        }
      ]
    },
    {
      "cell_type": "markdown",
      "source": [
        "# Extra Credit : do the same for week days only and weekends only"
      ],
      "metadata": {
        "id": "1mi3yn645F7D"
      }
    },
    {
      "cell_type": "markdown",
      "source": [
        "Pandas uses an excellent package to process dates! the datetime package\n",
        "\n",
        "The current date columns are starttime and stoptime. You can convert starttime, which is currently a column containing simple strings, to a python datetime variable as follows\n",
        "\n"
      ],
      "metadata": {
        "id": "ZpQWeL1N5MUW"
      }
    },
    {
      "cell_type": "code",
      "source": [
        "cbMay19[\"starttime\"]"
      ],
      "metadata": {
        "id": "9rOLXJgg5Z9B",
        "colab": {
          "base_uri": "https://localhost:8080/"
        },
        "outputId": "21faf821-b5f4-4804-cd63-4852c61112b8"
      },
      "execution_count": null,
      "outputs": [
        {
          "output_type": "execute_result",
          "data": {
            "text/plain": [
              "0          2019-05-01 00:00:01.9010\n",
              "1          2019-05-01 00:00:03.0210\n",
              "2          2019-05-01 00:00:04.6270\n",
              "3          2019-05-01 00:00:19.3340\n",
              "4          2019-05-01 00:00:22.1840\n",
              "                     ...           \n",
              "1924558    2019-05-31 23:59:45.5760\n",
              "1924559    2019-05-31 23:59:46.4650\n",
              "1924560    2019-05-31 23:59:51.5060\n",
              "1924561    2019-05-31 23:59:52.4170\n",
              "1924562    2019-05-31 23:59:55.5500\n",
              "Name: starttime, Length: 1924563, dtype: object"
            ]
          },
          "metadata": {},
          "execution_count": 14
        }
      ]
    },
    {
      "cell_type": "code",
      "source": [
        "cbMay19[\"tripdate\"] = pd.to_datetime(cbMay19.starttime)\n",
        "cbMay19[\"tripdate\"]"
      ],
      "metadata": {
        "id": "H77q8aL75qSk",
        "colab": {
          "base_uri": "https://localhost:8080/"
        },
        "outputId": "e63b49cf-4c0b-4914-8408-73b5388e3561"
      },
      "execution_count": null,
      "outputs": [
        {
          "output_type": "execute_result",
          "data": {
            "text/plain": [
              "0         2019-05-01 00:00:01.901\n",
              "1         2019-05-01 00:00:03.021\n",
              "2         2019-05-01 00:00:04.627\n",
              "3         2019-05-01 00:00:19.334\n",
              "4         2019-05-01 00:00:22.184\n",
              "                    ...          \n",
              "1924558   2019-05-31 23:59:45.576\n",
              "1924559   2019-05-31 23:59:46.465\n",
              "1924560   2019-05-31 23:59:51.506\n",
              "1924561   2019-05-31 23:59:52.417\n",
              "1924562   2019-05-31 23:59:55.550\n",
              "Name: tripdate, Length: 1924563, dtype: datetime64[ns]"
            ]
          },
          "metadata": {},
          "execution_count": 15
        }
      ]
    },
    {
      "cell_type": "markdown",
      "source": [
        "Once you have a datetime column for the start of the trip you can separate week days and weekends using the condition\n",
        "\n",
        "```cbMay19[\"tripdate\"].dt.weekday < 5```\n",
        "\n",
        "for weekdays and\n",
        "\n",
        "```cbMay19[\"tripdate\"].dt.weekday >= 5```\n",
        "\n",
        "for weekends.\n",
        "\n",
        "With the dataset separate in weekend and weekdays you can ask the same kind of questions: is trip duration characteristically different on weekends than on week days, or, are the gender-based differences you found for the overall sample the same for weekdays and weekends?\n"
      ],
      "metadata": {
        "id": "ZOw-t8z450Gn"
      }
    }
  ]
}